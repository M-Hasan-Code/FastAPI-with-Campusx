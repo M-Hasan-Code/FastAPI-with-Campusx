{
  "cells": [
    {
      "cell_type": "code",
      "source": [
        "import sklearn\n",
        "print(sklearn.__version__)"
      ],
      "metadata": {
        "id": "Hyb9H8KXHw9I",
        "outputId": "ce1f4708-eea8-4f94-9408-8fdabe8db0e5",
        "colab": {
          "base_uri": "https://localhost:8080/"
        }
      },
      "execution_count": 1,
      "outputs": [
        {
          "output_type": "stream",
          "name": "stdout",
          "text": [
            "1.6.1\n"
          ]
        }
      ]
    },
    {
      "cell_type": "code",
      "source": [
        "!mkdir -p ~/.kaggle\n",
        "!cp kaggle.json ~/.kaggle/"
      ],
      "metadata": {
        "id": "EpzyRKGYdiMC"
      },
      "execution_count": 5,
      "outputs": []
    },
    {
      "cell_type": "code",
      "source": [
        "#!/bin/bash\n",
        "!kaggle datasets download arashnic/hr-analytics-job-change-of-data-scientists"
      ],
      "metadata": {
        "colab": {
          "base_uri": "https://localhost:8080/"
        },
        "id": "0Fzr1swgd3iM",
        "outputId": "189dc14c-f056-4286-e348-ad22dab4e142"
      },
      "execution_count": 6,
      "outputs": [
        {
          "output_type": "stream",
          "name": "stdout",
          "text": [
            "Warning: Your Kaggle API key is readable by other users on this system! To fix this, you can run 'chmod 600 /root/.kaggle/kaggle.json'\n",
            "Dataset URL: https://www.kaggle.com/datasets/arashnic/hr-analytics-job-change-of-data-scientists\n",
            "License(s): CC0-1.0\n",
            "Downloading hr-analytics-job-change-of-data-scientists.zip to /content\n",
            "  0% 0.00/295k [00:00<?, ?B/s]\n",
            "100% 295k/295k [00:00<00:00, 499MB/s]\n"
          ]
        }
      ]
    },
    {
      "cell_type": "code",
      "source": [
        "import zipfile\n",
        "zip_ref = zipfile.ZipFile('/content/hr-analytics-job-change-of-data-scientists.zip', 'r')\n",
        "zip_ref.extractall('/content')\n",
        "zip_ref.close()"
      ],
      "metadata": {
        "id": "Eizd8pnHd_Y_"
      },
      "execution_count": 7,
      "outputs": []
    },
    {
      "cell_type": "code",
      "source": [
        "import pandas as pd\n",
        "df = pd.read_csv('/content/aug_train.csv')\n",
        "\n",
        "df.head(3)"
      ],
      "metadata": {
        "id": "DeCxmABNjV2U",
        "colab": {
          "base_uri": "https://localhost:8080/",
          "height": 181
        },
        "outputId": "79a2a83a-102d-4701-ff45-a044d19d00e1"
      },
      "execution_count": 10,
      "outputs": [
        {
          "output_type": "execute_result",
          "data": {
            "text/plain": [
              "   enrollee_id      city  city_development_index gender  \\\n",
              "0         8949  city_103                   0.920   Male   \n",
              "1        29725   city_40                   0.776   Male   \n",
              "2        11561   city_21                   0.624    NaN   \n",
              "\n",
              "       relevent_experience enrolled_university education_level  \\\n",
              "0  Has relevent experience       no_enrollment        Graduate   \n",
              "1   No relevent experience       no_enrollment        Graduate   \n",
              "2   No relevent experience    Full time course        Graduate   \n",
              "\n",
              "  major_discipline experience company_size company_type last_new_job  \\\n",
              "0             STEM        >20          NaN          NaN            1   \n",
              "1             STEM         15        50-99      Pvt Ltd           >4   \n",
              "2             STEM          5          NaN          NaN        never   \n",
              "\n",
              "   training_hours  target  \n",
              "0              36     1.0  \n",
              "1              47     0.0  \n",
              "2              83     0.0  "
            ],
            "text/html": [
              "\n",
              "  <div id=\"df-3987c576-50a4-40f7-b35f-bd70e6935894\" class=\"colab-df-container\">\n",
              "    <div>\n",
              "<style scoped>\n",
              "    .dataframe tbody tr th:only-of-type {\n",
              "        vertical-align: middle;\n",
              "    }\n",
              "\n",
              "    .dataframe tbody tr th {\n",
              "        vertical-align: top;\n",
              "    }\n",
              "\n",
              "    .dataframe thead th {\n",
              "        text-align: right;\n",
              "    }\n",
              "</style>\n",
              "<table border=\"1\" class=\"dataframe\">\n",
              "  <thead>\n",
              "    <tr style=\"text-align: right;\">\n",
              "      <th></th>\n",
              "      <th>enrollee_id</th>\n",
              "      <th>city</th>\n",
              "      <th>city_development_index</th>\n",
              "      <th>gender</th>\n",
              "      <th>relevent_experience</th>\n",
              "      <th>enrolled_university</th>\n",
              "      <th>education_level</th>\n",
              "      <th>major_discipline</th>\n",
              "      <th>experience</th>\n",
              "      <th>company_size</th>\n",
              "      <th>company_type</th>\n",
              "      <th>last_new_job</th>\n",
              "      <th>training_hours</th>\n",
              "      <th>target</th>\n",
              "    </tr>\n",
              "  </thead>\n",
              "  <tbody>\n",
              "    <tr>\n",
              "      <th>0</th>\n",
              "      <td>8949</td>\n",
              "      <td>city_103</td>\n",
              "      <td>0.920</td>\n",
              "      <td>Male</td>\n",
              "      <td>Has relevent experience</td>\n",
              "      <td>no_enrollment</td>\n",
              "      <td>Graduate</td>\n",
              "      <td>STEM</td>\n",
              "      <td>&gt;20</td>\n",
              "      <td>NaN</td>\n",
              "      <td>NaN</td>\n",
              "      <td>1</td>\n",
              "      <td>36</td>\n",
              "      <td>1.0</td>\n",
              "    </tr>\n",
              "    <tr>\n",
              "      <th>1</th>\n",
              "      <td>29725</td>\n",
              "      <td>city_40</td>\n",
              "      <td>0.776</td>\n",
              "      <td>Male</td>\n",
              "      <td>No relevent experience</td>\n",
              "      <td>no_enrollment</td>\n",
              "      <td>Graduate</td>\n",
              "      <td>STEM</td>\n",
              "      <td>15</td>\n",
              "      <td>50-99</td>\n",
              "      <td>Pvt Ltd</td>\n",
              "      <td>&gt;4</td>\n",
              "      <td>47</td>\n",
              "      <td>0.0</td>\n",
              "    </tr>\n",
              "    <tr>\n",
              "      <th>2</th>\n",
              "      <td>11561</td>\n",
              "      <td>city_21</td>\n",
              "      <td>0.624</td>\n",
              "      <td>NaN</td>\n",
              "      <td>No relevent experience</td>\n",
              "      <td>Full time course</td>\n",
              "      <td>Graduate</td>\n",
              "      <td>STEM</td>\n",
              "      <td>5</td>\n",
              "      <td>NaN</td>\n",
              "      <td>NaN</td>\n",
              "      <td>never</td>\n",
              "      <td>83</td>\n",
              "      <td>0.0</td>\n",
              "    </tr>\n",
              "  </tbody>\n",
              "</table>\n",
              "</div>\n",
              "    <div class=\"colab-df-buttons\">\n",
              "\n",
              "  <div class=\"colab-df-container\">\n",
              "    <button class=\"colab-df-convert\" onclick=\"convertToInteractive('df-3987c576-50a4-40f7-b35f-bd70e6935894')\"\n",
              "            title=\"Convert this dataframe to an interactive table.\"\n",
              "            style=\"display:none;\">\n",
              "\n",
              "  <svg xmlns=\"http://www.w3.org/2000/svg\" height=\"24px\" viewBox=\"0 -960 960 960\">\n",
              "    <path d=\"M120-120v-720h720v720H120Zm60-500h600v-160H180v160Zm220 220h160v-160H400v160Zm0 220h160v-160H400v160ZM180-400h160v-160H180v160Zm440 0h160v-160H620v160ZM180-180h160v-160H180v160Zm440 0h160v-160H620v160Z\"/>\n",
              "  </svg>\n",
              "    </button>\n",
              "\n",
              "  <style>\n",
              "    .colab-df-container {\n",
              "      display:flex;\n",
              "      gap: 12px;\n",
              "    }\n",
              "\n",
              "    .colab-df-convert {\n",
              "      background-color: #E8F0FE;\n",
              "      border: none;\n",
              "      border-radius: 50%;\n",
              "      cursor: pointer;\n",
              "      display: none;\n",
              "      fill: #1967D2;\n",
              "      height: 32px;\n",
              "      padding: 0 0 0 0;\n",
              "      width: 32px;\n",
              "    }\n",
              "\n",
              "    .colab-df-convert:hover {\n",
              "      background-color: #E2EBFA;\n",
              "      box-shadow: 0px 1px 2px rgba(60, 64, 67, 0.3), 0px 1px 3px 1px rgba(60, 64, 67, 0.15);\n",
              "      fill: #174EA6;\n",
              "    }\n",
              "\n",
              "    .colab-df-buttons div {\n",
              "      margin-bottom: 4px;\n",
              "    }\n",
              "\n",
              "    [theme=dark] .colab-df-convert {\n",
              "      background-color: #3B4455;\n",
              "      fill: #D2E3FC;\n",
              "    }\n",
              "\n",
              "    [theme=dark] .colab-df-convert:hover {\n",
              "      background-color: #434B5C;\n",
              "      box-shadow: 0px 1px 3px 1px rgba(0, 0, 0, 0.15);\n",
              "      filter: drop-shadow(0px 1px 2px rgba(0, 0, 0, 0.3));\n",
              "      fill: #FFFFFF;\n",
              "    }\n",
              "  </style>\n",
              "\n",
              "    <script>\n",
              "      const buttonEl =\n",
              "        document.querySelector('#df-3987c576-50a4-40f7-b35f-bd70e6935894 button.colab-df-convert');\n",
              "      buttonEl.style.display =\n",
              "        google.colab.kernel.accessAllowed ? 'block' : 'none';\n",
              "\n",
              "      async function convertToInteractive(key) {\n",
              "        const element = document.querySelector('#df-3987c576-50a4-40f7-b35f-bd70e6935894');\n",
              "        const dataTable =\n",
              "          await google.colab.kernel.invokeFunction('convertToInteractive',\n",
              "                                                    [key], {});\n",
              "        if (!dataTable) return;\n",
              "\n",
              "        const docLinkHtml = 'Like what you see? Visit the ' +\n",
              "          '<a target=\"_blank\" href=https://colab.research.google.com/notebooks/data_table.ipynb>data table notebook</a>'\n",
              "          + ' to learn more about interactive tables.';\n",
              "        element.innerHTML = '';\n",
              "        dataTable['output_type'] = 'display_data';\n",
              "        await google.colab.output.renderOutput(dataTable, element);\n",
              "        const docLink = document.createElement('div');\n",
              "        docLink.innerHTML = docLinkHtml;\n",
              "        element.appendChild(docLink);\n",
              "      }\n",
              "    </script>\n",
              "  </div>\n",
              "\n",
              "\n",
              "    <div id=\"df-0351f8e4-6486-4146-a964-f07488a47795\">\n",
              "      <button class=\"colab-df-quickchart\" onclick=\"quickchart('df-0351f8e4-6486-4146-a964-f07488a47795')\"\n",
              "                title=\"Suggest charts\"\n",
              "                style=\"display:none;\">\n",
              "\n",
              "<svg xmlns=\"http://www.w3.org/2000/svg\" height=\"24px\"viewBox=\"0 0 24 24\"\n",
              "     width=\"24px\">\n",
              "    <g>\n",
              "        <path d=\"M19 3H5c-1.1 0-2 .9-2 2v14c0 1.1.9 2 2 2h14c1.1 0 2-.9 2-2V5c0-1.1-.9-2-2-2zM9 17H7v-7h2v7zm4 0h-2V7h2v10zm4 0h-2v-4h2v4z\"/>\n",
              "    </g>\n",
              "</svg>\n",
              "      </button>\n",
              "\n",
              "<style>\n",
              "  .colab-df-quickchart {\n",
              "      --bg-color: #E8F0FE;\n",
              "      --fill-color: #1967D2;\n",
              "      --hover-bg-color: #E2EBFA;\n",
              "      --hover-fill-color: #174EA6;\n",
              "      --disabled-fill-color: #AAA;\n",
              "      --disabled-bg-color: #DDD;\n",
              "  }\n",
              "\n",
              "  [theme=dark] .colab-df-quickchart {\n",
              "      --bg-color: #3B4455;\n",
              "      --fill-color: #D2E3FC;\n",
              "      --hover-bg-color: #434B5C;\n",
              "      --hover-fill-color: #FFFFFF;\n",
              "      --disabled-bg-color: #3B4455;\n",
              "      --disabled-fill-color: #666;\n",
              "  }\n",
              "\n",
              "  .colab-df-quickchart {\n",
              "    background-color: var(--bg-color);\n",
              "    border: none;\n",
              "    border-radius: 50%;\n",
              "    cursor: pointer;\n",
              "    display: none;\n",
              "    fill: var(--fill-color);\n",
              "    height: 32px;\n",
              "    padding: 0;\n",
              "    width: 32px;\n",
              "  }\n",
              "\n",
              "  .colab-df-quickchart:hover {\n",
              "    background-color: var(--hover-bg-color);\n",
              "    box-shadow: 0 1px 2px rgba(60, 64, 67, 0.3), 0 1px 3px 1px rgba(60, 64, 67, 0.15);\n",
              "    fill: var(--button-hover-fill-color);\n",
              "  }\n",
              "\n",
              "  .colab-df-quickchart-complete:disabled,\n",
              "  .colab-df-quickchart-complete:disabled:hover {\n",
              "    background-color: var(--disabled-bg-color);\n",
              "    fill: var(--disabled-fill-color);\n",
              "    box-shadow: none;\n",
              "  }\n",
              "\n",
              "  .colab-df-spinner {\n",
              "    border: 2px solid var(--fill-color);\n",
              "    border-color: transparent;\n",
              "    border-bottom-color: var(--fill-color);\n",
              "    animation:\n",
              "      spin 1s steps(1) infinite;\n",
              "  }\n",
              "\n",
              "  @keyframes spin {\n",
              "    0% {\n",
              "      border-color: transparent;\n",
              "      border-bottom-color: var(--fill-color);\n",
              "      border-left-color: var(--fill-color);\n",
              "    }\n",
              "    20% {\n",
              "      border-color: transparent;\n",
              "      border-left-color: var(--fill-color);\n",
              "      border-top-color: var(--fill-color);\n",
              "    }\n",
              "    30% {\n",
              "      border-color: transparent;\n",
              "      border-left-color: var(--fill-color);\n",
              "      border-top-color: var(--fill-color);\n",
              "      border-right-color: var(--fill-color);\n",
              "    }\n",
              "    40% {\n",
              "      border-color: transparent;\n",
              "      border-right-color: var(--fill-color);\n",
              "      border-top-color: var(--fill-color);\n",
              "    }\n",
              "    60% {\n",
              "      border-color: transparent;\n",
              "      border-right-color: var(--fill-color);\n",
              "    }\n",
              "    80% {\n",
              "      border-color: transparent;\n",
              "      border-right-color: var(--fill-color);\n",
              "      border-bottom-color: var(--fill-color);\n",
              "    }\n",
              "    90% {\n",
              "      border-color: transparent;\n",
              "      border-bottom-color: var(--fill-color);\n",
              "    }\n",
              "  }\n",
              "</style>\n",
              "\n",
              "      <script>\n",
              "        async function quickchart(key) {\n",
              "          const quickchartButtonEl =\n",
              "            document.querySelector('#' + key + ' button');\n",
              "          quickchartButtonEl.disabled = true;  // To prevent multiple clicks.\n",
              "          quickchartButtonEl.classList.add('colab-df-spinner');\n",
              "          try {\n",
              "            const charts = await google.colab.kernel.invokeFunction(\n",
              "                'suggestCharts', [key], {});\n",
              "          } catch (error) {\n",
              "            console.error('Error during call to suggestCharts:', error);\n",
              "          }\n",
              "          quickchartButtonEl.classList.remove('colab-df-spinner');\n",
              "          quickchartButtonEl.classList.add('colab-df-quickchart-complete');\n",
              "        }\n",
              "        (() => {\n",
              "          let quickchartButtonEl =\n",
              "            document.querySelector('#df-0351f8e4-6486-4146-a964-f07488a47795 button');\n",
              "          quickchartButtonEl.style.display =\n",
              "            google.colab.kernel.accessAllowed ? 'block' : 'none';\n",
              "        })();\n",
              "      </script>\n",
              "    </div>\n",
              "\n",
              "    </div>\n",
              "  </div>\n"
            ],
            "application/vnd.google.colaboratory.intrinsic+json": {
              "type": "dataframe",
              "variable_name": "df",
              "summary": "{\n  \"name\": \"df\",\n  \"rows\": 19158,\n  \"fields\": [\n    {\n      \"column\": \"enrollee_id\",\n      \"properties\": {\n        \"dtype\": \"number\",\n        \"std\": 9616,\n        \"min\": 1,\n        \"max\": 33380,\n        \"num_unique_values\": 19158,\n        \"samples\": [\n          6992,\n          8637,\n          24729\n        ],\n        \"semantic_type\": \"\",\n        \"description\": \"\"\n      }\n    },\n    {\n      \"column\": \"city\",\n      \"properties\": {\n        \"dtype\": \"category\",\n        \"num_unique_values\": 123,\n        \"samples\": [\n          \"city_64\",\n          \"city_70\",\n          \"city_94\"\n        ],\n        \"semantic_type\": \"\",\n        \"description\": \"\"\n      }\n    },\n    {\n      \"column\": \"city_development_index\",\n      \"properties\": {\n        \"dtype\": \"number\",\n        \"std\": 0.12336175686055084,\n        \"min\": 0.4479999999999999,\n        \"max\": 0.949,\n        \"num_unique_values\": 93,\n        \"samples\": [\n          0.775,\n          0.939,\n          0.738\n        ],\n        \"semantic_type\": \"\",\n        \"description\": \"\"\n      }\n    },\n    {\n      \"column\": \"gender\",\n      \"properties\": {\n        \"dtype\": \"category\",\n        \"num_unique_values\": 3,\n        \"samples\": [\n          \"Male\",\n          \"Female\",\n          \"Other\"\n        ],\n        \"semantic_type\": \"\",\n        \"description\": \"\"\n      }\n    },\n    {\n      \"column\": \"relevent_experience\",\n      \"properties\": {\n        \"dtype\": \"category\",\n        \"num_unique_values\": 2,\n        \"samples\": [\n          \"No relevent experience\",\n          \"Has relevent experience\"\n        ],\n        \"semantic_type\": \"\",\n        \"description\": \"\"\n      }\n    },\n    {\n      \"column\": \"enrolled_university\",\n      \"properties\": {\n        \"dtype\": \"category\",\n        \"num_unique_values\": 3,\n        \"samples\": [\n          \"no_enrollment\",\n          \"Full time course\"\n        ],\n        \"semantic_type\": \"\",\n        \"description\": \"\"\n      }\n    },\n    {\n      \"column\": \"education_level\",\n      \"properties\": {\n        \"dtype\": \"category\",\n        \"num_unique_values\": 5,\n        \"samples\": [\n          \"Masters\",\n          \"Primary School\"\n        ],\n        \"semantic_type\": \"\",\n        \"description\": \"\"\n      }\n    },\n    {\n      \"column\": \"major_discipline\",\n      \"properties\": {\n        \"dtype\": \"category\",\n        \"num_unique_values\": 6,\n        \"samples\": [\n          \"STEM\",\n          \"Business Degree\"\n        ],\n        \"semantic_type\": \"\",\n        \"description\": \"\"\n      }\n    },\n    {\n      \"column\": \"experience\",\n      \"properties\": {\n        \"dtype\": \"category\",\n        \"num_unique_values\": 22,\n        \"samples\": [\n          \">20\",\n          \"14\"\n        ],\n        \"semantic_type\": \"\",\n        \"description\": \"\"\n      }\n    },\n    {\n      \"column\": \"company_size\",\n      \"properties\": {\n        \"dtype\": \"category\",\n        \"num_unique_values\": 8,\n        \"samples\": [\n          \"<10\",\n          \"10/49\"\n        ],\n        \"semantic_type\": \"\",\n        \"description\": \"\"\n      }\n    },\n    {\n      \"column\": \"company_type\",\n      \"properties\": {\n        \"dtype\": \"category\",\n        \"num_unique_values\": 6,\n        \"samples\": [\n          \"Pvt Ltd\",\n          \"Funded Startup\"\n        ],\n        \"semantic_type\": \"\",\n        \"description\": \"\"\n      }\n    },\n    {\n      \"column\": \"last_new_job\",\n      \"properties\": {\n        \"dtype\": \"category\",\n        \"num_unique_values\": 6,\n        \"samples\": [\n          \"1\",\n          \">4\"\n        ],\n        \"semantic_type\": \"\",\n        \"description\": \"\"\n      }\n    },\n    {\n      \"column\": \"training_hours\",\n      \"properties\": {\n        \"dtype\": \"number\",\n        \"std\": 60,\n        \"min\": 1,\n        \"max\": 336,\n        \"num_unique_values\": 241,\n        \"samples\": [\n          40,\n          18\n        ],\n        \"semantic_type\": \"\",\n        \"description\": \"\"\n      }\n    },\n    {\n      \"column\": \"target\",\n      \"properties\": {\n        \"dtype\": \"number\",\n        \"std\": 0.4326466344563381,\n        \"min\": 0.0,\n        \"max\": 1.0,\n        \"num_unique_values\": 2,\n        \"samples\": [\n          0.0,\n          1.0\n        ],\n        \"semantic_type\": \"\",\n        \"description\": \"\"\n      }\n    }\n  ]\n}"
            }
          },
          "metadata": {},
          "execution_count": 10
        }
      ]
    },
    {
      "cell_type": "code",
      "source": [
        "df.isnull().sum()"
      ],
      "metadata": {
        "colab": {
          "base_uri": "https://localhost:8080/",
          "height": 523
        },
        "id": "rQIbKM2tePTq",
        "outputId": "e38a2a64-62d2-47b3-bcf4-82573916e9d5"
      },
      "execution_count": 11,
      "outputs": [
        {
          "output_type": "execute_result",
          "data": {
            "text/plain": [
              "enrollee_id                  0\n",
              "city                         0\n",
              "city_development_index       0\n",
              "gender                    4508\n",
              "relevent_experience          0\n",
              "enrolled_university        386\n",
              "education_level            460\n",
              "major_discipline          2813\n",
              "experience                  65\n",
              "company_size              5938\n",
              "company_type              6140\n",
              "last_new_job               423\n",
              "training_hours               0\n",
              "target                       0\n",
              "dtype: int64"
            ],
            "text/html": [
              "<div>\n",
              "<style scoped>\n",
              "    .dataframe tbody tr th:only-of-type {\n",
              "        vertical-align: middle;\n",
              "    }\n",
              "\n",
              "    .dataframe tbody tr th {\n",
              "        vertical-align: top;\n",
              "    }\n",
              "\n",
              "    .dataframe thead th {\n",
              "        text-align: right;\n",
              "    }\n",
              "</style>\n",
              "<table border=\"1\" class=\"dataframe\">\n",
              "  <thead>\n",
              "    <tr style=\"text-align: right;\">\n",
              "      <th></th>\n",
              "      <th>0</th>\n",
              "    </tr>\n",
              "  </thead>\n",
              "  <tbody>\n",
              "    <tr>\n",
              "      <th>enrollee_id</th>\n",
              "      <td>0</td>\n",
              "    </tr>\n",
              "    <tr>\n",
              "      <th>city</th>\n",
              "      <td>0</td>\n",
              "    </tr>\n",
              "    <tr>\n",
              "      <th>city_development_index</th>\n",
              "      <td>0</td>\n",
              "    </tr>\n",
              "    <tr>\n",
              "      <th>gender</th>\n",
              "      <td>4508</td>\n",
              "    </tr>\n",
              "    <tr>\n",
              "      <th>relevent_experience</th>\n",
              "      <td>0</td>\n",
              "    </tr>\n",
              "    <tr>\n",
              "      <th>enrolled_university</th>\n",
              "      <td>386</td>\n",
              "    </tr>\n",
              "    <tr>\n",
              "      <th>education_level</th>\n",
              "      <td>460</td>\n",
              "    </tr>\n",
              "    <tr>\n",
              "      <th>major_discipline</th>\n",
              "      <td>2813</td>\n",
              "    </tr>\n",
              "    <tr>\n",
              "      <th>experience</th>\n",
              "      <td>65</td>\n",
              "    </tr>\n",
              "    <tr>\n",
              "      <th>company_size</th>\n",
              "      <td>5938</td>\n",
              "    </tr>\n",
              "    <tr>\n",
              "      <th>company_type</th>\n",
              "      <td>6140</td>\n",
              "    </tr>\n",
              "    <tr>\n",
              "      <th>last_new_job</th>\n",
              "      <td>423</td>\n",
              "    </tr>\n",
              "    <tr>\n",
              "      <th>training_hours</th>\n",
              "      <td>0</td>\n",
              "    </tr>\n",
              "    <tr>\n",
              "      <th>target</th>\n",
              "      <td>0</td>\n",
              "    </tr>\n",
              "  </tbody>\n",
              "</table>\n",
              "</div><br><label><b>dtype:</b> int64</label>"
            ]
          },
          "metadata": {},
          "execution_count": 11
        }
      ]
    },
    {
      "cell_type": "code",
      "source": [
        "df['gender'] = df['gender'].fillna(df['gender'].mode()[0])\n",
        "df['enrolled_university'] = df['enrolled_university'].fillna(df['enrolled_university'].mode()[0])\n",
        "df['education_level'] = df['education_level'].fillna(df['education_level'].mode()[0])\n",
        "df['major_discipline'] = df['major_discipline'].fillna(df['major_discipline'].mode()[0])\n",
        "df['company_size'] = df['company_size'].fillna(df['company_size'].mode()[0])\n",
        "df['company_type'] = df['company_type'].fillna(df['company_type'].mode()[0])\n",
        "df['last_new_job'] = df['last_new_job'].fillna(df['last_new_job'].mode()[0])\n",
        "df['experience'] = df['experience'].fillna(df['experience'].mode()[0])"
      ],
      "metadata": {
        "id": "fcEAD-cCeVJy"
      },
      "execution_count": 12,
      "outputs": []
    },
    {
      "cell_type": "code",
      "source": [
        "df['experience'].unique()"
      ],
      "metadata": {
        "id": "IZ5uajdaexNq",
        "colab": {
          "base_uri": "https://localhost:8080/"
        },
        "outputId": "571c252c-cd1a-4e5c-93b7-4ed6804ec5ba"
      },
      "execution_count": 13,
      "outputs": [
        {
          "output_type": "execute_result",
          "data": {
            "text/plain": [
              "array(['>20', '15', '5', '<1', '11', '13', '7', '17', '2', '16', '1', '4',\n",
              "       '10', '14', '18', '19', '12', '3', '6', '9', '8', '20'],\n",
              "      dtype=object)"
            ]
          },
          "metadata": {},
          "execution_count": 13
        }
      ]
    },
    {
      "cell_type": "code",
      "source": [
        "df['experience'] = df['experience'].replace('<1', '0')\n",
        "df['experience'] = df['experience'].replace('>20', '21')"
      ],
      "metadata": {
        "id": "0ICDft_zlat0"
      },
      "execution_count": 14,
      "outputs": []
    },
    {
      "cell_type": "code",
      "source": [
        "df['experience'] = df['experience'].astype(int)\n",
        "\n",
        "def map_experience(exp):\n",
        "    if exp <= 5:\n",
        "        return 'small_exp'\n",
        "    elif exp <= 10:\n",
        "        return 'medium_exp'\n",
        "    elif exp <= 15:\n",
        "        return 'high_exp'\n",
        "    else:\n",
        "        return 'very_high_exp'\n",
        "\n",
        "# Apply the function to a new column\n",
        "df['exp_level'] = df['experience'].apply(map_experience)"
      ],
      "metadata": {
        "id": "ST8IYXIAldMq"
      },
      "execution_count": 15,
      "outputs": []
    },
    {
      "cell_type": "code",
      "source": [
        "df['company_size'].unique()"
      ],
      "metadata": {
        "colab": {
          "base_uri": "https://localhost:8080/"
        },
        "id": "GJBWrMbtfh7o",
        "outputId": "1174f2ca-f45d-4203-d2a4-621cb7b18e7b"
      },
      "execution_count": 16,
      "outputs": [
        {
          "output_type": "execute_result",
          "data": {
            "text/plain": [
              "array(['50-99', '<10', '10000+', '5000-9999', '1000-4999', '10/49',\n",
              "       '100-500', '500-999'], dtype=object)"
            ]
          },
          "metadata": {},
          "execution_count": 16
        }
      ]
    },
    {
      "cell_type": "code",
      "source": [
        "def map_company_size(size):\n",
        "    if size == '<10':\n",
        "        return 'micro'\n",
        "    elif size in ['10/49', '50-99']:\n",
        "        return 'small'\n",
        "    elif size in ['100-500', '500-999']:\n",
        "        return 'medium'\n",
        "    elif size in ['1000-4999', '5000-9999']:\n",
        "        return 'large'\n",
        "    elif size == '10000+':\n",
        "        return 'enterprise'\n",
        "    else:\n",
        "        return 'unknown'\n",
        "\n",
        "df['size_label'] = df['company_size'].apply(map_company_size)"
      ],
      "metadata": {
        "id": "VITE5bOjmX6x"
      },
      "execution_count": 17,
      "outputs": []
    },
    {
      "cell_type": "code",
      "source": [
        "df['education_level'].unique()"
      ],
      "metadata": {
        "colab": {
          "base_uri": "https://localhost:8080/"
        },
        "id": "M0QSuEJoSRoE",
        "outputId": "ad28afbd-9c16-4d99-ce85-9956d01fc95a"
      },
      "execution_count": 18,
      "outputs": [
        {
          "output_type": "execute_result",
          "data": {
            "text/plain": [
              "array(['Graduate', 'Masters', 'High School', 'Phd', 'Primary School'],\n",
              "      dtype=object)"
            ]
          },
          "metadata": {},
          "execution_count": 18
        }
      ]
    },
    {
      "cell_type": "code",
      "source": [
        "df['last_new_job'].unique()\n",
        "\n",
        "df['last_new_job'] = df['last_new_job'].replace('never', '0')\n",
        "df['last_new_job'] = df['last_new_job'].replace('>4', '5')"
      ],
      "metadata": {
        "id": "smd808Swe6Z0"
      },
      "execution_count": 19,
      "outputs": []
    },
    {
      "cell_type": "code",
      "source": [
        "df['last_new_job']=df['last_new_job'].astype(int)"
      ],
      "metadata": {
        "id": "zhLG5PYelDwp"
      },
      "execution_count": 21,
      "outputs": []
    },
    {
      "cell_type": "code",
      "source": [
        "df['company_type'].unique()"
      ],
      "metadata": {
        "colab": {
          "base_uri": "https://localhost:8080/"
        },
        "id": "A0OUK8LajTCq",
        "outputId": "eec44df7-a1de-4a29-d732-1031e0f51272"
      },
      "execution_count": 22,
      "outputs": [
        {
          "output_type": "execute_result",
          "data": {
            "text/plain": [
              "array(['Pvt Ltd', 'Funded Startup', 'Early Stage Startup', 'Other',\n",
              "       'Public Sector', 'NGO'], dtype=object)"
            ]
          },
          "metadata": {},
          "execution_count": 22
        }
      ]
    },
    {
      "cell_type": "code",
      "source": [
        "df ['major_discipline'].unique()"
      ],
      "metadata": {
        "id": "jD57gD8BWTCU",
        "colab": {
          "base_uri": "https://localhost:8080/"
        },
        "outputId": "b7b39823-5c0a-4f0c-ce60-89c8f4d11ae6"
      },
      "execution_count": 20,
      "outputs": [
        {
          "output_type": "execute_result",
          "data": {
            "text/plain": [
              "array(['STEM', 'Business Degree', 'Arts', 'Humanities', 'No Major',\n",
              "       'Other'], dtype=object)"
            ]
          },
          "metadata": {},
          "execution_count": 20
        }
      ]
    },
    {
      "cell_type": "code",
      "source": [
        "df['enrolled_university'].unique()"
      ],
      "metadata": {
        "colab": {
          "base_uri": "https://localhost:8080/"
        },
        "id": "4DY57S39jnm1",
        "outputId": "0bda3ac8-983a-48c0-bba6-ccdce809722a"
      },
      "execution_count": 23,
      "outputs": [
        {
          "output_type": "execute_result",
          "data": {
            "text/plain": [
              "array(['no_enrollment', 'Full time course', 'Part time course'],\n",
              "      dtype=object)"
            ]
          },
          "metadata": {},
          "execution_count": 23
        }
      ]
    },
    {
      "cell_type": "code",
      "source": [
        "df.columns"
      ],
      "metadata": {
        "colab": {
          "base_uri": "https://localhost:8080/"
        },
        "id": "swiWi6KQkqnN",
        "outputId": "a245f8ea-61ed-409b-d27c-48ee6eac72cc"
      },
      "execution_count": 24,
      "outputs": [
        {
          "output_type": "execute_result",
          "data": {
            "text/plain": [
              "Index(['enrollee_id', 'city', 'city_development_index', 'gender',\n",
              "       'relevent_experience', 'enrolled_university', 'education_level',\n",
              "       'major_discipline', 'experience', 'company_size', 'company_type',\n",
              "       'last_new_job', 'training_hours', 'target', 'exp_level', 'size_label'],\n",
              "      dtype='object')"
            ]
          },
          "metadata": {},
          "execution_count": 24
        }
      ]
    },
    {
      "cell_type": "code",
      "source": [
        "df.info()"
      ],
      "metadata": {
        "colab": {
          "base_uri": "https://localhost:8080/"
        },
        "id": "niJckVU_fSzy",
        "outputId": "2d6b3577-37b1-490d-c664-d0515eb869ce"
      },
      "execution_count": 25,
      "outputs": [
        {
          "output_type": "stream",
          "name": "stdout",
          "text": [
            "<class 'pandas.core.frame.DataFrame'>\n",
            "RangeIndex: 19158 entries, 0 to 19157\n",
            "Data columns (total 16 columns):\n",
            " #   Column                  Non-Null Count  Dtype  \n",
            "---  ------                  --------------  -----  \n",
            " 0   enrollee_id             19158 non-null  int64  \n",
            " 1   city                    19158 non-null  object \n",
            " 2   city_development_index  19158 non-null  float64\n",
            " 3   gender                  19158 non-null  object \n",
            " 4   relevent_experience     19158 non-null  object \n",
            " 5   enrolled_university     19158 non-null  object \n",
            " 6   education_level         19158 non-null  object \n",
            " 7   major_discipline        19158 non-null  object \n",
            " 8   experience              19158 non-null  int64  \n",
            " 9   company_size            19158 non-null  object \n",
            " 10  company_type            19158 non-null  object \n",
            " 11  last_new_job            19158 non-null  int64  \n",
            " 12  training_hours          19158 non-null  int64  \n",
            " 13  target                  19158 non-null  float64\n",
            " 14  exp_level               19158 non-null  object \n",
            " 15  size_label              19158 non-null  object \n",
            "dtypes: float64(2), int64(4), object(10)\n",
            "memory usage: 2.3+ MB\n"
          ]
        }
      ]
    },
    {
      "cell_type": "code",
      "source": [
        "y = df['target']\n",
        "X = df.drop(['enrollee_id','city','target','company_size','experience'], axis=1)"
      ],
      "metadata": {
        "id": "7coyJkbTng0K"
      },
      "execution_count": 26,
      "outputs": []
    },
    {
      "cell_type": "code",
      "source": [
        "X.info()"
      ],
      "metadata": {
        "colab": {
          "base_uri": "https://localhost:8080/"
        },
        "id": "GszOCNldnvC7",
        "outputId": "852c9272-1925-414a-8954-86339c27b780"
      },
      "execution_count": 27,
      "outputs": [
        {
          "output_type": "stream",
          "name": "stdout",
          "text": [
            "<class 'pandas.core.frame.DataFrame'>\n",
            "RangeIndex: 19158 entries, 0 to 19157\n",
            "Data columns (total 11 columns):\n",
            " #   Column                  Non-Null Count  Dtype  \n",
            "---  ------                  --------------  -----  \n",
            " 0   city_development_index  19158 non-null  float64\n",
            " 1   gender                  19158 non-null  object \n",
            " 2   relevent_experience     19158 non-null  object \n",
            " 3   enrolled_university     19158 non-null  object \n",
            " 4   education_level         19158 non-null  object \n",
            " 5   major_discipline        19158 non-null  object \n",
            " 6   company_type            19158 non-null  object \n",
            " 7   last_new_job            19158 non-null  int64  \n",
            " 8   training_hours          19158 non-null  int64  \n",
            " 9   exp_level               19158 non-null  object \n",
            " 10  size_label              19158 non-null  object \n",
            "dtypes: float64(1), int64(2), object(8)\n",
            "memory usage: 1.6+ MB\n"
          ]
        }
      ]
    },
    {
      "cell_type": "code",
      "source": [
        "ordinal_cols = [\n",
        "    'relevent_experience',\n",
        "    'education_level',\n",
        "    'exp_level',\n",
        "    'size_label'\n",
        "]\n",
        "\n",
        "one_hot_cols = [\n",
        "    'gender',\n",
        "    'enrolled_university',\n",
        "    'major_discipline',\n",
        "    'company_type'\n",
        "]"
      ],
      "metadata": {
        "id": "pyLvuRNej6nX"
      },
      "execution_count": 29,
      "outputs": []
    },
    {
      "cell_type": "code",
      "source": [
        "from sklearn.compose import ColumnTransformer\n",
        "from sklearn.preprocessing import OneHotEncoder, StandardScaler, OrdinalEncoder\n",
        "from sklearn.pipeline import Pipeline\n",
        "from sklearn.ensemble import RandomForestClassifier\n",
        "from sklearn.linear_model import LogisticRegression\n",
        "from sklearn.metrics import roc_curve, roc_auc_score\n",
        "import plotly.graph_objects as go\n",
        "\n",
        "column_transformer = ColumnTransformer(transformers=[\n",
        "        ('cat', OneHotEncoder(handle_unknown='ignore'), one_hot_cols),\n",
        "        ('ord', OrdinalEncoder(), ordinal_cols),\n",
        "    ], remainder='passthrough')\n",
        "\n",
        "Pipeline1 = Pipeline(steps=[\n",
        "        ('transformer', column_transformer),\n",
        "        ('scaler', StandardScaler()),\n",
        "        ('rfc', RandomForestClassifier())\n",
        "\n",
        "    ])\n",
        "\n",
        "Pipeline2 = Pipeline(steps=[\n",
        "        ('transformer', column_transformer),\n",
        "        ('scaler', StandardScaler()),\n",
        "        ('lr', LogisticRegression())\n",
        "\n",
        "    ])"
      ],
      "metadata": {
        "id": "fbb3vzwNJgA5"
      },
      "execution_count": 30,
      "outputs": []
    },
    {
      "cell_type": "code",
      "source": [
        "from sklearn.model_selection import train_test_split\n",
        "X_train, X_test, y_train, y_test = train_test_split(X, y, test_size=0.2, random_state=42)"
      ],
      "metadata": {
        "id": "bHZsI_nwLnib"
      },
      "execution_count": 31,
      "outputs": []
    },
    {
      "cell_type": "code",
      "source": [
        "gbc_clf=Pipeline1.fit(X_train, y_train)\n",
        "lr_clf=Pipeline2.fit(X_train, y_train)"
      ],
      "metadata": {
        "id": "gbfNntd_qAf2"
      },
      "execution_count": 32,
      "outputs": []
    },
    {
      "cell_type": "code",
      "source": [
        "gbc_score = gbc_clf.predict_proba(X_test)[:,1]\n",
        "lr_scores = lr_clf.predict_proba(X_test)[:,1]\n",
        "\n",
        "gbc_fpr, gbc_tpr, gbc_thresholds = roc_curve(y_test, gbc_score)\n",
        "gbc_auc = roc_auc_score(y_test, gbc_score)\n",
        "\n",
        "lr_fpr, lr_tpr, lr_thresholds = roc_curve(y_test, lr_scores)\n",
        "lr_auc = roc_auc_score(y_test, gbc_score)\n",
        "\n",
        "trace0 = go.Scatter(\n",
        "    x=gbc_fpr,\n",
        "    y=gbc_tpr,\n",
        "    mode='lines',\n",
        "    name=f'Gradient Boosting (Area = {gbc_auc:.2f})'\n",
        ")\n",
        "\n",
        "trace1 = go.Scatter(\n",
        "    x=lr_fpr,\n",
        "    y=lr_tpr,\n",
        "    mode='lines',\n",
        "    name=f'Logistic Regression (Area = {lr_auc:.2f})'\n",
        ")\n",
        "\n",
        "# Diagonal line\n",
        "trace2 = go.Scatter(\n",
        "    x=[0, 1],\n",
        "    y=[0, 1],\n",
        "    mode='lines',\n",
        "    name='Random (Area = 0.5)',\n",
        "    line=dict(dash='dash')\n",
        ")\n",
        "\n",
        "data = [trace0, trace1, trace2]\n",
        "\n",
        "layout = go.Layout(\n",
        "    title='Receiver Operating Characteristic',\n",
        "    xaxis=dict(title='False Positive Rate'),\n",
        "    yaxis=dict(title='True Positive Rate'),\n",
        "    autosize=False,\n",
        "    width=800,\n",
        "    height=800,\n",
        "    showlegend=True\n",
        ")\n",
        "\n",
        "fig = go.Figure(data=data, layout=layout)\n",
        "\n",
        "fig.show()"
      ],
      "metadata": {
        "id": "d5ghqjO6fUqg",
        "colab": {
          "base_uri": "https://localhost:8080/",
          "height": 817
        },
        "outputId": "6af18a24-641d-4bc4-b872-ad3c0bb72c91"
      },
      "execution_count": 33,
      "outputs": [
        {
          "output_type": "display_data",
          "data": {
            "text/html": [
              "<html>\n",
              "<head><meta charset=\"utf-8\" /></head>\n",
              "<body>\n",
              "    <div>            <script src=\"https://cdnjs.cloudflare.com/ajax/libs/mathjax/2.7.5/MathJax.js?config=TeX-AMS-MML_SVG\"></script><script type=\"text/javascript\">if (window.MathJax && window.MathJax.Hub && window.MathJax.Hub.Config) {window.MathJax.Hub.Config({SVG: {font: \"STIX-Web\"}});}</script>                <script type=\"text/javascript\">window.PlotlyConfig = {MathJaxConfig: 'local'};</script>\n",
              "        <script charset=\"utf-8\" src=\"https://cdn.plot.ly/plotly-2.35.2.min.js\"></script>                <div id=\"1c88817d-bd66-40dd-97df-c97554184650\" class=\"plotly-graph-div\" style=\"height:800px; width:800px;\"></div>            <script type=\"text/javascript\">                                    window.PLOTLYENV=window.PLOTLYENV || {};                                    if (document.getElementById(\"1c88817d-bd66-40dd-97df-c97554184650\")) {                    Plotly.newPlot(                        \"1c88817d-bd66-40dd-97df-c97554184650\",                        [{\"mode\":\"lines\",\"name\":\"Gradient Boosting (Area = 0.72)\",\"x\":[0.0,0.00034722222222222224,0.0010416666666666667,0.001736111111111111,0.0020833333333333333,0.002777777777777778,0.002777777777777778,0.003125,0.0038194444444444443,0.0038194444444444443,0.0045138888888888885,0.0045138888888888885,0.005555555555555556,0.005902777777777778,0.005902777777777778,0.00625,0.00625,0.00625,0.007291666666666667,0.007291666666666667,0.007291666666666667,0.00798611111111111,0.009027777777777777,0.009027777777777777,0.010069444444444445,0.010069444444444445,0.010416666666666666,0.011805555555555555,0.0125,0.0125,0.013194444444444444,0.013541666666666667,0.013541666666666667,0.013888888888888888,0.014930555555555556,0.015277777777777777,0.015625,0.015625,0.01597222222222222,0.016319444444444445,0.016319444444444445,0.017013888888888887,0.017708333333333333,0.018055555555555554,0.018055555555555554,0.02013888888888889,0.020833333333333332,0.021527777777777778,0.021527777777777778,0.021875,0.021875,0.022916666666666665,0.02326388888888889,0.02361111111111111,0.023958333333333335,0.025694444444444443,0.02638888888888889,0.027430555555555555,0.028125,0.02847222222222222,0.02847222222222222,0.029166666666666667,0.029513888888888888,0.029861111111111113,0.03090277777777778,0.03090277777777778,0.03298611111111111,0.03333333333333333,0.03333333333333333,0.033680555555555554,0.033680555555555554,0.035069444444444445,0.035069444444444445,0.03576388888888889,0.04027777777777778,0.04097222222222222,0.042708333333333334,0.043055555555555555,0.043055555555555555,0.04375,0.046875,0.04756944444444444,0.04756944444444444,0.04756944444444444,0.04895833333333333,0.049305555555555554,0.049305555555555554,0.049652777777777775,0.050347222222222224,0.05451388888888889,0.05520833333333333,0.05590277777777778,0.05590277777777778,0.05625,0.059722222222222225,0.059722222222222225,0.06284722222222222,0.06284722222222222,0.06319444444444444,0.06388888888888888,0.06458333333333334,0.06458333333333334,0.06597222222222222,0.06597222222222222,0.07013888888888889,0.07361111111111111,0.07361111111111111,0.07395833333333333,0.07673611111111112,0.07673611111111112,0.07708333333333334,0.07916666666666666,0.07951388888888888,0.07951388888888888,0.08229166666666667,0.08229166666666667,0.08263888888888889,0.08784722222222222,0.08784722222222222,0.08819444444444445,0.08819444444444445,0.08958333333333333,0.08958333333333333,0.09236111111111112,0.09270833333333334,0.09756944444444444,0.09756944444444444,0.09791666666666667,0.10034722222222223,0.10034722222222223,0.10069444444444445,0.10069444444444445,0.10104166666666667,0.10451388888888889,0.10520833333333333,0.10555555555555556,0.1076388888888889,0.1076388888888889,0.1076388888888889,0.1111111111111111,0.1111111111111111,0.11145833333333334,0.11145833333333334,0.11215277777777778,0.11597222222222223,0.11631944444444445,0.11840277777777777,0.11840277777777777,0.12152777777777778,0.12152777777777778,0.121875,0.1267361111111111,0.1267361111111111,0.12743055555555555,0.12743055555555555,0.12881944444444443,0.12881944444444443,0.12986111111111112,0.12986111111111112,0.13402777777777777,0.13506944444444444,0.13506944444444444,0.13541666666666666,0.13854166666666667,0.1388888888888889,0.13923611111111112,0.13993055555555556,0.14305555555555555,0.1440972222222222,0.1482638888888889,0.1482638888888889,0.1486111111111111,0.14895833333333333,0.14895833333333333,0.15034722222222222,0.15069444444444444,0.15069444444444444,0.15416666666666667,0.15486111111111112,0.15486111111111112,0.15520833333333334,0.15520833333333334,0.15729166666666666,0.15729166666666666,0.15763888888888888,0.15763888888888888,0.16180555555555556,0.165625,0.16597222222222222,0.17048611111111112,0.17083333333333334,0.17152777777777778,0.17256944444444444,0.17291666666666666,0.17777777777777778,0.17777777777777778,0.17881944444444445,0.17881944444444445,0.1840277777777778,0.18506944444444445,0.1857638888888889,0.1857638888888889,0.18611111111111112,0.19027777777777777,0.19027777777777777,0.190625,0.190625,0.19756944444444444,0.19791666666666666,0.19791666666666666,0.19930555555555557,0.2048611111111111,0.20555555555555555,0.20625,0.20625,0.21388888888888888,0.2142361111111111,0.2142361111111111,0.22013888888888888,0.22013888888888888,0.22013888888888888,0.22013888888888888,0.22083333333333333,0.22534722222222223,0.22569444444444445,0.22569444444444445,0.22708333333333333,0.23645833333333333,0.23680555555555555,0.2375,0.2375,0.2375,0.24409722222222222,0.24409722222222222,0.24444444444444444,0.24444444444444444,0.2520833333333333,0.2520833333333333,0.25277777777777777,0.26319444444444445,0.2638888888888889,0.2642361111111111,0.2642361111111111,0.2722222222222222,0.27291666666666664,0.2809027777777778,0.2809027777777778,0.28229166666666666,0.28958333333333336,0.28958333333333336,0.2902777777777778,0.29097222222222224,0.3017361111111111,0.3020833333333333,0.3020833333333333,0.31666666666666665,0.3170138888888889,0.3173611111111111,0.31840277777777776,0.31875,0.31875,0.33125,0.33194444444444443,0.34444444444444444,0.3451388888888889,0.3454861111111111,0.3454861111111111,0.34618055555555555,0.3645833333333333,0.36493055555555554,0.36493055555555554,0.38090277777777776,0.3815972222222222,0.3819444444444444,0.3819444444444444,0.38263888888888886,0.39479166666666665,0.3951388888888889,0.3951388888888889,0.3958333333333333,0.4149305555555556,0.4152777777777778,0.4329861111111111,0.43368055555555557,0.43472222222222223,0.4354166666666667,0.45729166666666665,0.45729166666666665,0.4576388888888889,0.459375,0.4597222222222222,0.48125,0.48159722222222223,0.48159722222222223,0.4826388888888889,0.4826388888888889,0.4829861111111111,0.50625,0.50625,0.5065972222222223,0.5277777777777778,0.5277777777777778,0.528125,0.528125,0.5288194444444444,0.5534722222222223,0.5541666666666667,0.5541666666666667,0.5545138888888889,0.5545138888888889,0.5548611111111111,0.5548611111111111,0.5552083333333333,0.5815972222222222,0.5819444444444445,0.5819444444444445,0.5829861111111111,0.5836805555555555,0.6121527777777778,0.6128472222222222,0.6138888888888889,0.6440972222222222,0.6444444444444445,0.6444444444444445,0.6447916666666667,0.6458333333333334,0.6829861111111111,0.6829861111111111,0.6833333333333333,0.684375,0.6847222222222222,0.7145833333333333,0.7152777777777778,0.7159722222222222,0.7163194444444444,0.7170138888888888,0.7177083333333333,0.7572916666666667,0.7576388888888889,0.7576388888888889,0.7579861111111111,0.7909722222222222,0.7913194444444445,0.7920138888888889,0.7923611111111111,0.7927083333333333,0.8322916666666667,0.8333333333333334,0.8354166666666667,0.8361111111111111,0.8368055555555556,0.8375,0.8822916666666667,0.8826388888888889,0.8826388888888889,0.8829861111111111,0.884375,0.9427083333333334,0.9434027777777778,0.94375,1.0],\"y\":[0.0,0.0,0.0010504201680672268,0.0010504201680672268,0.0021008403361344537,0.0021008403361344537,0.004201680672268907,0.005252100840336135,0.005252100840336135,0.007352941176470588,0.007352941176470588,0.008403361344537815,0.012605042016806723,0.012605042016806723,0.01365546218487395,0.01365546218487395,0.015756302521008403,0.01680672268907563,0.018907563025210083,0.02100840336134454,0.022058823529411766,0.022058823529411766,0.026260504201680673,0.029411764705882353,0.03361344537815126,0.03571428571428571,0.03676470588235294,0.04096638655462185,0.04096638655462185,0.04201680672268908,0.046218487394957986,0.046218487394957986,0.04726890756302521,0.04726890756302521,0.05042016806722689,0.05042016806722689,0.051470588235294115,0.052521008403361345,0.05357142857142857,0.05357142857142857,0.0546218487394958,0.0546218487394958,0.058823529411764705,0.058823529411764705,0.059873949579831935,0.06407563025210083,0.06407563025210083,0.06512605042016807,0.0661764705882353,0.0661764705882353,0.06827731092436974,0.07563025210084033,0.07563025210084033,0.07668067226890757,0.07668067226890757,0.08508403361344538,0.08508403361344538,0.08508403361344538,0.08718487394957983,0.08718487394957983,0.08928571428571429,0.09978991596638656,0.10294117647058823,0.10399159663865547,0.1092436974789916,0.11134453781512606,0.1207983193277311,0.1207983193277311,0.12184873949579832,0.12184873949579832,0.12289915966386554,0.12920168067226892,0.13025210084033614,0.13025210084033614,0.13445378151260504,0.13445378151260504,0.14285714285714285,0.14285714285714285,0.14390756302521007,0.14390756302521007,0.15021008403361344,0.15021008403361344,0.15126050420168066,0.15336134453781514,0.16176470588235295,0.16176470588235295,0.16281512605042017,0.16281512605042017,0.16281512605042017,0.17016806722689076,0.17016806722689076,0.17016806722689076,0.17121848739495799,0.17121848739495799,0.18067226890756302,0.18172268907563024,0.1869747899159664,0.1880252100840336,0.1880252100840336,0.18907563025210083,0.18907563025210083,0.19117647058823528,0.1953781512605042,0.19642857142857142,0.20063025210084034,0.2111344537815126,0.21323529411764705,0.21323529411764705,0.22373949579831934,0.22584033613445378,0.22584033613445378,0.226890756302521,0.226890756302521,0.23004201680672268,0.23739495798319327,0.23844537815126052,0.23844537815126052,0.24579831932773108,0.24684873949579833,0.24684873949579833,0.24789915966386555,0.2510504201680672,0.2542016806722689,0.26260504201680673,0.26260504201680673,0.2689075630252101,0.27205882352941174,0.27205882352941174,0.2804621848739496,0.2815126050420168,0.28256302521008403,0.28361344537815125,0.28361344537815125,0.28886554621848737,0.28886554621848737,0.28991596638655465,0.3004201680672269,0.3025210084033613,0.30357142857142855,0.3130252100840336,0.31407563025210083,0.31407563025210083,0.31512605042016806,0.31512605042016806,0.3277310924369748,0.3277310924369748,0.33613445378151263,0.34138655462184875,0.34558823529411764,0.34663865546218486,0.34663865546218486,0.3550420168067227,0.3560924369747899,0.3560924369747899,0.35714285714285715,0.3644957983193277,0.36554621848739494,0.36554621848739494,0.36869747899159666,0.37710084033613445,0.37710084033613445,0.37815126050420167,0.37815126050420167,0.38865546218487396,0.38865546218487396,0.3897058823529412,0.3897058823529412,0.3960084033613445,0.3960084033613445,0.4054621848739496,0.4065126050420168,0.4065126050420168,0.40756302521008403,0.40861344537815125,0.41911764705882354,0.41911764705882354,0.42016806722689076,0.42857142857142855,0.42857142857142855,0.42962184873949577,0.42962184873949577,0.43067226890756305,0.4432773109243697,0.44432773109243695,0.44432773109243695,0.4474789915966387,0.46218487394957986,0.47163865546218486,0.47163865546218486,0.47794117647058826,0.47794117647058826,0.47794117647058826,0.47794117647058826,0.47794117647058826,0.4852941176470588,0.48634453781512604,0.48634453781512604,0.48739495798319327,0.4957983193277311,0.4957983193277311,0.4957983193277311,0.49684873949579833,0.49684873949579833,0.5115546218487395,0.5126050420168067,0.5126050420168067,0.5136554621848739,0.5210084033613446,0.5210084033613446,0.5220588235294118,0.5220588235294118,0.5315126050420168,0.532563025210084,0.532563025210084,0.5336134453781513,0.5399159663865546,0.5399159663865546,0.5409663865546218,0.5483193277310925,0.5493697478991597,0.5514705882352942,0.5525210084033614,0.5525210084033614,0.5630252100840336,0.5630252100840336,0.5640756302521008,0.5640756302521008,0.5798319327731093,0.5808823529411765,0.5808823529411765,0.582983193277311,0.5840336134453782,0.5945378151260504,0.5955882352941176,0.5955882352941176,0.5976890756302521,0.6123949579831933,0.6144957983193278,0.6144957983193278,0.6207983193277311,0.6207983193277311,0.6218487394957983,0.6228991596638656,0.634453781512605,0.634453781512605,0.6439075630252101,0.6449579831932774,0.6449579831932774,0.6491596638655462,0.6502100840336135,0.6502100840336135,0.6502100840336135,0.6680672268907563,0.6691176470588235,0.6701680672268907,0.680672268907563,0.680672268907563,0.6817226890756303,0.6817226890756303,0.6827731092436975,0.6838235294117647,0.6932773109243697,0.6932773109243697,0.7037815126050421,0.7037815126050421,0.7048319327731093,0.7058823529411765,0.7058823529411765,0.7132352941176471,0.7132352941176471,0.7153361344537815,0.7226890756302521,0.7226890756302521,0.7226890756302521,0.7237394957983193,0.7237394957983193,0.7321428571428571,0.7321428571428571,0.7342436974789915,0.7342436974789915,0.7457983193277311,0.7457983193277311,0.7584033613445378,0.7584033613445378,0.7584033613445378,0.7584033613445378,0.7699579831932774,0.7710084033613446,0.7710084033613446,0.7710084033613446,0.7710084033613446,0.7815126050420168,0.7815126050420168,0.782563025210084,0.782563025210084,0.7836134453781513,0.7836134453781513,0.7951680672268907,0.7972689075630253,0.7972689075630253,0.805672268907563,0.8077731092436975,0.8077731092436975,0.8088235294117647,0.8088235294117647,0.8214285714285714,0.8214285714285714,0.8235294117647058,0.8235294117647058,0.8245798319327731,0.8245798319327731,0.8256302521008403,0.8256302521008403,0.8403361344537815,0.8403361344537815,0.8413865546218487,0.8413865546218487,0.842436974789916,0.8571428571428571,0.8571428571428571,0.8571428571428571,0.8728991596638656,0.8728991596638656,0.8739495798319328,0.875,0.875,0.8939075630252101,0.8949579831932774,0.8949579831932774,0.8949579831932774,0.8949579831932774,0.907563025210084,0.907563025210084,0.907563025210084,0.907563025210084,0.907563025210084,0.907563025210084,0.9159663865546218,0.9159663865546218,0.9180672268907563,0.9180672268907563,0.9285714285714286,0.9285714285714286,0.9285714285714286,0.9296218487394958,0.9296218487394958,0.9411764705882353,0.9411764705882353,0.9411764705882353,0.9411764705882353,0.9411764705882353,0.9411764705882353,0.9642857142857143,0.9653361344537815,0.9663865546218487,0.9663865546218487,0.9663865546218487,0.9810924369747899,0.9810924369747899,0.9810924369747899,1.0],\"type\":\"scatter\"},{\"mode\":\"lines\",\"name\":\"Logistic Regression (Area = 0.72)\",\"x\":[0.0,0.0,0.0,0.0010416666666666667,0.0010416666666666667,0.001736111111111111,0.001736111111111111,0.0020833333333333333,0.0020833333333333333,0.0024305555555555556,0.0024305555555555556,0.002777777777777778,0.002777777777777778,0.003472222222222222,0.003472222222222222,0.004166666666666667,0.004166666666666667,0.0045138888888888885,0.0045138888888888885,0.004861111111111111,0.004861111111111111,0.005555555555555556,0.005555555555555556,0.00625,0.00625,0.006597222222222222,0.006597222222222222,0.006944444444444444,0.006944444444444444,0.007638888888888889,0.007638888888888889,0.00798611111111111,0.00798611111111111,0.008680555555555556,0.008680555555555556,0.009027777777777777,0.009027777777777777,0.009375,0.009375,0.009722222222222222,0.009722222222222222,0.010763888888888889,0.010763888888888889,0.011111111111111112,0.011111111111111112,0.011458333333333333,0.011458333333333333,0.012847222222222222,0.012847222222222222,0.013541666666666667,0.013541666666666667,0.013888888888888888,0.015277777777777777,0.015277777777777777,0.01597222222222222,0.01597222222222222,0.016666666666666666,0.016666666666666666,0.017013888888888887,0.017013888888888887,0.017361111111111112,0.017361111111111112,0.017361111111111112,0.018055555555555554,0.01875,0.019097222222222224,0.019444444444444445,0.019444444444444445,0.019791666666666666,0.019791666666666666,0.02048611111111111,0.02048611111111111,0.020833333333333332,0.020833333333333332,0.021180555555555557,0.021180555555555557,0.021527777777777778,0.021527777777777778,0.021875,0.021875,0.022569444444444444,0.022569444444444444,0.022916666666666665,0.022916666666666665,0.02361111111111111,0.02361111111111111,0.025,0.025,0.025347222222222222,0.025347222222222222,0.025694444444444443,0.025694444444444443,0.026041666666666668,0.026041666666666668,0.02638888888888889,0.02638888888888889,0.02673611111111111,0.02673611111111111,0.027083333333333334,0.027083333333333334,0.027083333333333334,0.027083333333333334,0.027430555555555555,0.027430555555555555,0.027777777777777776,0.027777777777777776,0.02847222222222222,0.02847222222222222,0.029861111111111113,0.029861111111111113,0.030208333333333334,0.030208333333333334,0.03090277777777778,0.03090277777777778,0.03159722222222222,0.03159722222222222,0.03298611111111111,0.03298611111111111,0.03333333333333333,0.03333333333333333,0.033680555555555554,0.033680555555555554,0.034027777777777775,0.034027777777777775,0.03576388888888889,0.03576388888888889,0.03611111111111111,0.03611111111111111,0.036458333333333336,0.036458333333333336,0.03680555555555556,0.03680555555555556,0.03715277777777778,0.03715277777777778,0.03784722222222222,0.03784722222222222,0.03819444444444445,0.03819444444444445,0.03888888888888889,0.03888888888888889,0.03923611111111111,0.03923611111111111,0.03993055555555555,0.03993055555555555,0.04027777777777778,0.04027777777777778,0.04097222222222222,0.04097222222222222,0.041666666666666664,0.041666666666666664,0.04201388888888889,0.04201388888888889,0.04236111111111111,0.04236111111111111,0.043055555555555555,0.043055555555555555,0.043402777777777776,0.043402777777777776,0.04375,0.04375,0.044444444444444446,0.044444444444444446,0.04548611111111111,0.04548611111111111,0.04618055555555556,0.04618055555555556,0.04652777777777778,0.04652777777777778,0.04756944444444444,0.04756944444444444,0.049305555555555554,0.049305555555555554,0.05,0.05,0.05173611111111111,0.05173611111111111,0.052083333333333336,0.052083333333333336,0.05243055555555556,0.05243055555555556,0.053125,0.053125,0.05451388888888889,0.05451388888888889,0.05451388888888889,0.05486111111111111,0.05486111111111111,0.05555555555555555,0.05625,0.05625,0.05659722222222222,0.05659722222222222,0.05694444444444444,0.05694444444444444,0.057291666666666664,0.057291666666666664,0.05763888888888889,0.05763888888888889,0.058333333333333334,0.058333333333333334,0.058680555555555555,0.058680555555555555,0.059375,0.059375,0.059722222222222225,0.059722222222222225,0.060069444444444446,0.060069444444444446,0.06041666666666667,0.06041666666666667,0.06111111111111111,0.06111111111111111,0.06145833333333333,0.06145833333333333,0.06180555555555556,0.06180555555555556,0.06215277777777778,0.06215277777777778,0.0625,0.0625,0.06284722222222222,0.06284722222222222,0.06319444444444444,0.06319444444444444,0.06354166666666666,0.06354166666666666,0.06527777777777778,0.06527777777777778,0.06631944444444444,0.06631944444444444,0.06701388888888889,0.06701388888888889,0.06736111111111111,0.06736111111111111,0.06770833333333333,0.06770833333333333,0.06770833333333333,0.06770833333333333,0.06805555555555555,0.06805555555555555,0.06909722222222223,0.06909722222222223,0.06944444444444445,0.06944444444444445,0.07013888888888889,0.07013888888888889,0.07048611111111111,0.07048611111111111,0.07083333333333333,0.07083333333333333,0.07118055555555555,0.07118055555555555,0.07256944444444445,0.07256944444444445,0.07465277777777778,0.07465277777777778,0.07534722222222222,0.07534722222222222,0.07604166666666666,0.07604166666666666,0.0763888888888889,0.0763888888888889,0.07777777777777778,0.07777777777777778,0.07847222222222222,0.07847222222222222,0.07916666666666666,0.07916666666666666,0.08020833333333334,0.08020833333333334,0.08055555555555556,0.08055555555555556,0.08090277777777778,0.08090277777777778,0.08125,0.08125,0.08159722222222222,0.08159722222222222,0.08229166666666667,0.08229166666666667,0.08263888888888889,0.08263888888888889,0.08333333333333333,0.08333333333333333,0.08368055555555555,0.08368055555555555,0.08402777777777778,0.08402777777777778,0.08506944444444445,0.08506944444444445,0.08576388888888889,0.08576388888888889,0.08611111111111111,0.08611111111111111,0.08680555555555555,0.08680555555555555,0.0875,0.0875,0.08888888888888889,0.08888888888888889,0.08923611111111111,0.08923611111111111,0.09236111111111112,0.09236111111111112,0.09375,0.09375,0.09409722222222222,0.09409722222222222,0.09444444444444444,0.09444444444444444,0.09583333333333334,0.09583333333333334,0.09756944444444444,0.09756944444444444,0.09791666666666667,0.09791666666666667,0.10034722222222223,0.10034722222222223,0.10069444444444445,0.10069444444444445,0.10243055555555555,0.10243055555555555,0.10277777777777777,0.10277777777777777,0.10347222222222222,0.10347222222222222,0.10416666666666667,0.10416666666666667,0.10486111111111111,0.10486111111111111,0.10555555555555556,0.10555555555555556,0.10729166666666666,0.10729166666666666,0.1076388888888889,0.1076388888888889,0.10868055555555556,0.10868055555555556,0.10902777777777778,0.10902777777777778,0.10972222222222222,0.10972222222222222,0.11006944444444444,0.11006944444444444,0.11006944444444444,0.11180555555555556,0.11180555555555556,0.11354166666666667,0.11354166666666667,0.11458333333333333,0.11458333333333333,0.11527777777777778,0.11527777777777778,0.115625,0.115625,0.11666666666666667,0.11666666666666667,0.11736111111111111,0.11736111111111111,0.11770833333333333,0.11770833333333333,0.11875,0.11875,0.12048611111111111,0.12048611111111111,0.12083333333333333,0.12083333333333333,0.12118055555555556,0.12118055555555556,0.12256944444444444,0.12256944444444444,0.12291666666666666,0.12291666666666666,0.1232638888888889,0.1232638888888889,0.12361111111111112,0.12361111111111112,0.12430555555555556,0.12430555555555556,0.12465277777777778,0.12465277777777778,0.12638888888888888,0.12638888888888888,0.12708333333333333,0.12708333333333333,0.12743055555555555,0.12743055555555555,0.128125,0.1284722222222222,0.1284722222222222,0.12881944444444443,0.12881944444444443,0.13020833333333334,0.13020833333333334,0.1329861111111111,0.1329861111111111,0.13333333333333333,0.13333333333333333,0.13506944444444444,0.13506944444444444,0.1361111111111111,0.1361111111111111,0.13645833333333332,0.13645833333333332,0.13645833333333332,0.13645833333333332,0.13680555555555557,0.13680555555555557,0.1371527777777778,0.1371527777777778,0.1375,0.1375,0.13784722222222223,0.13784722222222223,0.1388888888888889,0.1388888888888889,0.13958333333333334,0.13958333333333334,0.14097222222222222,0.14097222222222222,0.14131944444444444,0.14131944444444444,0.14166666666666666,0.14166666666666666,0.14270833333333333,0.14270833333333333,0.14305555555555555,0.14305555555555555,0.1440972222222222,0.1440972222222222,0.1451388888888889,0.1451388888888889,0.14583333333333334,0.14583333333333334,0.14652777777777778,0.14652777777777778,0.14722222222222223,0.14722222222222223,0.15,0.15,0.15069444444444444,0.15069444444444444,0.15243055555555557,0.15243055555555557,0.15347222222222223,0.15347222222222223,0.15520833333333334,0.15520833333333334,0.15555555555555556,0.15555555555555556,0.15763888888888888,0.15763888888888888,0.15833333333333333,0.15833333333333333,0.15902777777777777,0.15902777777777777,0.159375,0.159375,0.1597222222222222,0.1597222222222222,0.16041666666666668,0.16041666666666668,0.16111111111111112,0.16111111111111112,0.16145833333333334,0.16145833333333334,0.16215277777777778,0.16215277777777778,0.16319444444444445,0.16319444444444445,0.16354166666666667,0.16354166666666667,0.1638888888888889,0.1638888888888889,0.16458333333333333,0.16458333333333333,0.16527777777777777,0.16527777777777777,0.16701388888888888,0.16701388888888888,0.1673611111111111,0.1673611111111111,0.16770833333333332,0.16770833333333332,0.16805555555555557,0.16805555555555557,0.1684027777777778,0.1684027777777778,0.16875,0.16875,0.16979166666666667,0.16979166666666667,0.1701388888888889,0.1701388888888889,0.17048611111111112,0.17048611111111112,0.17118055555555556,0.17118055555555556,0.17152777777777778,0.17152777777777778,0.171875,0.171875,0.17222222222222222,0.17222222222222222,0.17291666666666666,0.17291666666666666,0.17326388888888888,0.17326388888888888,0.1736111111111111,0.1736111111111111,0.17395833333333333,0.17395833333333333,0.17465277777777777,0.17465277777777777,0.1753472222222222,0.1753472222222222,0.17604166666666668,0.17604166666666668,0.17673611111111112,0.17673611111111112,0.17743055555555556,0.17743055555555556,0.17777777777777778,0.17777777777777778,0.17916666666666667,0.17916666666666667,0.18020833333333333,0.18020833333333333,0.18090277777777777,0.18090277777777777,0.18229166666666666,0.18229166666666666,0.18506944444444445,0.18506944444444445,0.18541666666666667,0.18541666666666667,0.18645833333333334,0.18645833333333334,0.18715277777777778,0.18715277777777778,0.18819444444444444,0.18819444444444444,0.1892361111111111,0.1892361111111111,0.190625,0.190625,0.1909722222222222,0.1909722222222222,0.19131944444444443,0.19131944444444443,0.19340277777777778,0.19340277777777778,0.19409722222222223,0.19409722222222223,0.19618055555555555,0.19618055555555555,0.19826388888888888,0.19826388888888888,0.20243055555555556,0.20243055555555556,0.20381944444444444,0.20381944444444444,0.20416666666666666,0.20416666666666666,0.20451388888888888,0.20451388888888888,0.20590277777777777,0.20590277777777777,0.20868055555555556,0.20868055555555556,0.20972222222222223,0.20972222222222223,0.21041666666666667,0.21041666666666667,0.21145833333333333,0.21145833333333333,0.21180555555555555,0.21180555555555555,0.21284722222222222,0.21284722222222222,0.21319444444444444,0.21319444444444444,0.21388888888888888,0.21388888888888888,0.21458333333333332,0.21458333333333332,0.2170138888888889,0.2170138888888889,0.21736111111111112,0.21736111111111112,0.21979166666666666,0.21979166666666666,0.22118055555555555,0.22118055555555555,0.22152777777777777,0.22152777777777777,0.221875,0.221875,0.22291666666666668,0.22291666666666668,0.22395833333333334,0.22395833333333334,0.22465277777777778,0.22465277777777778,0.22569444444444445,0.22569444444444445,0.22604166666666667,0.22604166666666667,0.22743055555555555,0.22743055555555555,0.22777777777777777,0.22777777777777777,0.228125,0.228125,0.22916666666666666,0.22916666666666666,0.22951388888888888,0.22951388888888888,0.2298611111111111,0.2298611111111111,0.23055555555555557,0.23055555555555557,0.2309027777777778,0.2309027777777778,0.23125,0.23125,0.2326388888888889,0.2326388888888889,0.23333333333333334,0.23333333333333334,0.23472222222222222,0.23472222222222222,0.23680555555555555,0.23680555555555555,0.2388888888888889,0.2388888888888889,0.23958333333333334,0.23958333333333334,0.24270833333333333,0.24270833333333333,0.24444444444444444,0.24444444444444444,0.246875,0.246875,0.24722222222222223,0.24722222222222223,0.24930555555555556,0.24930555555555556,0.24965277777777778,0.24965277777777778,0.2503472222222222,0.2503472222222222,0.25104166666666666,0.25104166666666666,0.2517361111111111,0.2517361111111111,0.2534722222222222,0.2534722222222222,0.2548611111111111,0.2548611111111111,0.25625,0.25625,0.25833333333333336,0.25833333333333336,0.25972222222222224,0.25972222222222224,0.2625,0.2625,0.2638888888888889,0.2638888888888889,0.2642361111111111,0.2642361111111111,0.26493055555555556,0.26493055555555556,0.2652777777777778,0.2652777777777778,0.2659722222222222,0.2659722222222222,0.26631944444444444,0.26631944444444444,0.2708333333333333,0.2708333333333333,0.27152777777777776,0.27152777777777776,0.27361111111111114,0.27361111111111114,0.2743055555555556,0.2743055555555556,0.27847222222222223,0.27847222222222223,0.2795138888888889,0.2795138888888889,0.28229166666666666,0.28229166666666666,0.28402777777777777,0.28402777777777777,0.284375,0.284375,0.2864583333333333,0.2864583333333333,0.28680555555555554,0.28680555555555554,0.28888888888888886,0.28888888888888886,0.2899305555555556,0.2899305555555556,0.29270833333333335,0.29270833333333335,0.29444444444444445,0.29444444444444445,0.2947916666666667,0.2947916666666667,0.2954861111111111,0.2954861111111111,0.29583333333333334,0.29583333333333334,0.296875,0.296875,0.3,0.3,0.3020833333333333,0.3020833333333333,0.30520833333333336,0.30520833333333336,0.30868055555555557,0.30868055555555557,0.3090277777777778,0.3090277777777778,0.31631944444444443,0.31631944444444443,0.3170138888888889,0.3170138888888889,0.3173611111111111,0.3173611111111111,0.3190972222222222,0.3190972222222222,0.32013888888888886,0.32013888888888886,0.3211805555555556,0.3211805555555556,0.3215277777777778,0.321875,0.321875,0.32256944444444446,0.32256944444444446,0.32534722222222223,0.32534722222222223,0.32569444444444445,0.32569444444444445,0.3267361111111111,0.32743055555555556,0.32916666666666666,0.32916666666666666,0.3295138888888889,0.3295138888888889,0.3298611111111111,0.3298611111111111,0.3302083333333333,0.3302083333333333,0.3315972222222222,0.3315972222222222,0.3326388888888889,0.3326388888888889,0.3333333333333333,0.3333333333333333,0.3368055555555556,0.3368055555555556,0.33784722222222224,0.33784722222222224,0.3385416666666667,0.3385416666666667,0.33993055555555557,0.33993055555555557,0.3402777777777778,0.3402777777777778,0.3420138888888889,0.3420138888888889,0.3440972222222222,0.3440972222222222,0.34444444444444444,0.34444444444444444,0.3451388888888889,0.3451388888888889,0.3454861111111111,0.3454861111111111,0.3458333333333333,0.3458333333333333,0.34618055555555555,0.34618055555555555,0.346875,0.346875,0.3503472222222222,0.3503472222222222,0.3506944444444444,0.3506944444444444,0.35625,0.35625,0.35694444444444445,0.35694444444444445,0.3576388888888889,0.3576388888888889,0.3607638888888889,0.3607638888888889,0.3625,0.3625,0.3645833333333333,0.3645833333333333,0.36666666666666664,0.36666666666666664,0.36875,0.36875,0.371875,0.371875,0.37256944444444445,0.37256944444444445,0.37777777777777777,0.37777777777777777,0.37916666666666665,0.37916666666666665,0.3815972222222222,0.3815972222222222,0.38298611111111114,0.38298611111111114,0.3836805555555556,0.3836805555555556,0.38506944444444446,0.38506944444444446,0.3875,0.3875,0.38819444444444445,0.38819444444444445,0.3885416666666667,0.3885416666666667,0.3888888888888889,0.3888888888888889,0.39131944444444444,0.39131944444444444,0.39340277777777777,0.39340277777777777,0.3975694444444444,0.3975694444444444,0.39791666666666664,0.39791666666666664,0.3993055555555556,0.3993055555555556,0.4,0.4,0.40034722222222224,0.40034722222222224,0.4013888888888889,0.40208333333333335,0.40208333333333335,0.409375,0.409375,0.41215277777777776,0.41215277777777776,0.41388888888888886,0.41388888888888886,0.41631944444444446,0.41631944444444446,0.41944444444444445,0.41944444444444445,0.4197916666666667,0.4197916666666667,0.4201388888888889,0.4201388888888889,0.4222222222222222,0.4222222222222222,0.42951388888888886,0.42951388888888886,0.43020833333333336,0.43020833333333336,0.43194444444444446,0.43194444444444446,0.4322916666666667,0.4322916666666667,0.43680555555555556,0.43680555555555556,0.43993055555555555,0.43993055555555555,0.44166666666666665,0.44166666666666665,0.4444444444444444,0.4444444444444444,0.44513888888888886,0.44513888888888886,0.446875,0.446875,0.44722222222222224,0.44722222222222224,0.45034722222222223,0.45034722222222223,0.45208333333333334,0.45208333333333334,0.45243055555555556,0.45243055555555556,0.4545138888888889,0.4545138888888889,0.4552083333333333,0.4552083333333333,0.45555555555555555,0.45555555555555555,0.45590277777777777,0.45590277777777777,0.4565972222222222,0.4565972222222222,0.45868055555555554,0.45902777777777776,0.46458333333333335,0.46458333333333335,0.46493055555555557,0.46493055555555557,0.46875,0.46944444444444444,0.47118055555555555,0.47118055555555555,0.47152777777777777,0.47152777777777777,0.47291666666666665,0.47291666666666665,0.4736111111111111,0.4736111111111111,0.475,0.475,0.4753472222222222,0.4753472222222222,0.4795138888888889,0.4795138888888889,0.4798611111111111,0.4798611111111111,0.48125,0.48125,0.4829861111111111,0.4829861111111111,0.48541666666666666,0.48541666666666666,0.4861111111111111,0.4861111111111111,0.4888888888888889,0.4888888888888889,0.48993055555555554,0.48993055555555554,0.49166666666666664,0.49166666666666664,0.49270833333333336,0.4934027777777778,0.49756944444444445,0.49756944444444445,0.49895833333333334,0.49895833333333334,0.5006944444444444,0.5006944444444444,0.5013888888888889,0.5013888888888889,0.5017361111111112,0.5024305555555556,0.5024305555555556,0.5038194444444445,0.5038194444444445,0.5079861111111111,0.5079861111111111,0.5090277777777777,0.5090277777777777,0.509375,0.509375,0.5097222222222222,0.5097222222222222,0.5107638888888889,0.5107638888888889,0.5121527777777778,0.5121527777777778,0.5138888888888888,0.5138888888888888,0.5145833333333333,0.5145833333333333,0.5149305555555556,0.5149305555555556,0.5184027777777778,0.5184027777777778,0.5184027777777778,0.51875,0.51875,0.5211805555555555,0.5211805555555555,0.5229166666666667,0.5229166666666667,0.5246527777777777,0.5246527777777777,0.5270833333333333,0.5270833333333333,0.5309027777777777,0.5309027777777777,0.5364583333333334,0.5364583333333334,0.5392361111111111,0.5392361111111111,0.5430555555555555,0.5430555555555555,0.5461805555555556,0.5461805555555556,0.5493055555555556,0.5493055555555556,0.5597222222222222,0.5597222222222222,0.5628472222222223,0.5628472222222223,0.5635416666666667,0.5635416666666667,0.5638888888888889,0.5638888888888889,0.5649305555555556,0.5649305555555556,0.5659722222222222,0.5659722222222222,0.5670138888888889,0.5670138888888889,0.5711805555555556,0.5711805555555556,0.5854166666666667,0.5854166666666667,0.5871527777777777,0.5871527777777777,0.5895833333333333,0.5895833333333333,0.5923611111111111,0.5923611111111111,0.5934027777777777,0.5934027777777777,0.5954861111111112,0.5954861111111112,0.5965277777777778,0.5965277777777778,0.5979166666666667,0.5979166666666667,0.6010416666666667,0.6010416666666667,0.6059027777777778,0.6059027777777778,0.6072916666666667,0.6072916666666667,0.609375,0.609375,0.6145833333333334,0.6145833333333334,0.6190972222222222,0.6190972222222222,0.6201388888888889,0.6201388888888889,0.6246527777777777,0.6246527777777777,0.6253472222222223,0.6253472222222223,0.6256944444444444,0.6263888888888889,0.6291666666666667,0.6291666666666667,0.6295138888888889,0.6295138888888889,0.6326388888888889,0.6326388888888889,0.6354166666666666,0.6354166666666666,0.6375,0.6375,0.6388888888888888,0.6388888888888888,0.6447916666666667,0.6447916666666667,0.6586805555555556,0.6586805555555556,0.6621527777777778,0.6621527777777778,0.6663194444444445,0.6663194444444445,0.6680555555555555,0.66875,0.6760416666666667,0.6767361111111111,0.6777777777777778,0.6777777777777778,0.6788194444444444,0.6788194444444444,0.6795138888888889,0.6795138888888889,0.6940972222222223,0.6940972222222223,0.6944444444444444,0.6944444444444444,0.6947916666666667,0.6947916666666667,0.6975694444444445,0.6975694444444445,0.7086805555555555,0.7086805555555555,0.715625,0.7163194444444444,0.71875,0.7194444444444444,0.721875,0.721875,0.7253472222222223,0.7253472222222223,0.7263888888888889,0.7263888888888889,0.728125,0.728125,0.7340277777777777,0.7340277777777777,0.7402777777777778,0.7402777777777778,0.7409722222222223,0.7413194444444444,0.7434027777777777,0.7434027777777777,0.7472222222222222,0.7472222222222222,0.7482638888888888,0.7482638888888888,0.7489583333333333,0.7489583333333333,0.7520833333333333,0.7520833333333333,0.7538194444444445,0.7538194444444445,0.7545138888888889,0.7545138888888889,0.7572916666666667,0.7572916666666667,0.7694444444444445,0.7694444444444445,0.7739583333333333,0.7739583333333333,0.7753472222222222,0.7753472222222222,0.7854166666666667,0.7854166666666667,0.7868055555555555,0.7868055555555555,0.7909722222222222,0.7909722222222222,0.7951388888888888,0.7951388888888888,0.809375,0.809375,0.8111111111111111,0.8111111111111111,0.8128472222222223,0.8128472222222223,0.81875,0.81875,0.8284722222222223,0.8284722222222223,0.8298611111111112,0.8298611111111112,0.8329861111111111,0.8329861111111111,0.8388888888888889,0.8388888888888889,0.8409722222222222,0.8409722222222222,0.8458333333333333,0.8458333333333333,0.8559027777777778,0.8559027777777778,0.8621527777777778,0.8621527777777778,0.8631944444444445,0.8631944444444445,0.8690972222222222,0.8690972222222222,0.8697916666666666,0.8697916666666666,0.8746527777777777,0.8746527777777777,0.8791666666666667,0.8791666666666667,0.8802083333333334,0.8802083333333334,0.88125,0.88125,0.8829861111111111,0.8829861111111111,0.8916666666666667,0.8916666666666667,0.8923611111111112,0.8923611111111112,0.8930555555555556,0.8930555555555556,0.8944444444444445,0.8944444444444445,0.9048611111111111,0.9048611111111111,0.9059027777777777,0.9059027777777777,0.9121527777777778,0.9121527777777778,0.91875,0.91875,0.9239583333333333,0.9239583333333333,0.9246527777777778,0.9246527777777778,0.9270833333333334,0.9270833333333334,0.9378472222222223,0.9378472222222223,0.9395833333333333,0.9395833333333333,0.9486111111111111,0.9486111111111111,0.9489583333333333,0.9489583333333333,0.9496527777777778,0.9496527777777778,0.9541666666666667,0.9541666666666667,0.9590277777777778,0.9590277777777778,0.9600694444444444,0.9607638888888889,0.9621527777777777,0.9621527777777777,0.9722222222222222,0.9722222222222222,0.9767361111111111,0.9767361111111111,0.9770833333333333,0.9770833333333333,0.9815972222222222,0.9815972222222222,0.9822916666666667,0.9822916666666667,0.9861111111111112,0.9861111111111112,0.9920138888888889,0.9920138888888889,0.9940972222222222,0.9940972222222222,0.9954861111111111,0.9954861111111111,0.9986111111111111,0.9986111111111111,1.0],\"y\":[0.0,0.0010504201680672268,0.0021008403361344537,0.0021008403361344537,0.005252100840336135,0.005252100840336135,0.0063025210084033615,0.0063025210084033615,0.009453781512605041,0.009453781512605041,0.01050420168067227,0.01050420168067227,0.012605042016806723,0.012605042016806723,0.017857142857142856,0.017857142857142856,0.02415966386554622,0.02415966386554622,0.0273109243697479,0.0273109243697479,0.031512605042016806,0.031512605042016806,0.03466386554621849,0.03466386554621849,0.03571428571428571,0.03571428571428571,0.037815126050420166,0.037815126050420166,0.038865546218487396,0.038865546218487396,0.04096638655462185,0.04096638655462185,0.04201680672268908,0.04201680672268908,0.0430672268907563,0.0430672268907563,0.04726890756302521,0.04726890756302521,0.04936974789915966,0.04936974789915966,0.052521008403361345,0.052521008403361345,0.0546218487394958,0.0546218487394958,0.05672268907563025,0.05672268907563025,0.05777310924369748,0.05777310924369748,0.058823529411764705,0.058823529411764705,0.059873949579831935,0.06092436974789916,0.06092436974789916,0.06722689075630252,0.06722689075630252,0.06827731092436974,0.06827731092436974,0.07247899159663866,0.07247899159663866,0.07352941176470588,0.07352941176470588,0.07457983193277311,0.07668067226890757,0.07668067226890757,0.07668067226890757,0.07773109243697479,0.07773109243697479,0.07878151260504201,0.07878151260504201,0.08298319327731092,0.08298319327731092,0.0861344537815126,0.0861344537815126,0.08823529411764706,0.08823529411764706,0.09033613445378151,0.09033613445378151,0.09138655462184873,0.09138655462184873,0.0934873949579832,0.0934873949579832,0.09453781512605042,0.09453781512605042,0.09663865546218488,0.09663865546218488,0.0976890756302521,0.0976890756302521,0.09978991596638656,0.09978991596638656,0.10084033613445378,0.10084033613445378,0.10399159663865547,0.10399159663865547,0.10609243697478991,0.10609243697478991,0.10714285714285714,0.10714285714285714,0.11554621848739496,0.11554621848739496,0.11764705882352941,0.11974789915966387,0.12184873949579832,0.12184873949579832,0.12394957983193278,0.12394957983193278,0.125,0.125,0.12605042016806722,0.12605042016806722,0.12815126050420167,0.12815126050420167,0.13025210084033614,0.13025210084033614,0.1323529411764706,0.1323529411764706,0.1334033613445378,0.1334033613445378,0.13550420168067226,0.13550420168067226,0.13760504201680673,0.13760504201680673,0.13865546218487396,0.13865546218487396,0.14495798319327732,0.14495798319327732,0.15231092436974789,0.15231092436974789,0.15441176470588236,0.15441176470588236,0.15546218487394958,0.15546218487394958,0.15756302521008403,0.15756302521008403,0.15861344537815125,0.15861344537815125,0.16281512605042017,0.16281512605042017,0.16911764705882354,0.16911764705882354,0.1722689075630252,0.1722689075630252,0.17331932773109243,0.17331932773109243,0.17436974789915966,0.17436974789915966,0.17752100840336135,0.17752100840336135,0.17857142857142858,0.17857142857142858,0.1796218487394958,0.1796218487394958,0.18067226890756302,0.18067226890756302,0.18592436974789917,0.18592436974789917,0.1880252100840336,0.1880252100840336,0.19012605042016806,0.19012605042016806,0.19117647058823528,0.19117647058823528,0.19222689075630253,0.19222689075630253,0.19327731092436976,0.19327731092436976,0.1953781512605042,0.1953781512605042,0.19642857142857142,0.19642857142857142,0.19747899159663865,0.19747899159663865,0.2027310924369748,0.2027310924369748,0.20798319327731093,0.20798319327731093,0.20903361344537816,0.20903361344537816,0.21218487394957983,0.21218487394957983,0.21428571428571427,0.21428571428571427,0.21953781512605042,0.21953781512605042,0.22058823529411764,0.22268907563025211,0.22268907563025211,0.22478991596638656,0.22478991596638656,0.22584033613445378,0.226890756302521,0.226890756302521,0.22794117647058823,0.22794117647058823,0.22899159663865545,0.22899159663865545,0.23004201680672268,0.23004201680672268,0.23109243697478993,0.23109243697478993,0.23319327731092437,0.23319327731092437,0.2342436974789916,0.2342436974789916,0.23634453781512604,0.23634453781512604,0.23844537815126052,0.23844537815126052,0.24054621848739496,0.24054621848739496,0.2426470588235294,0.2426470588235294,0.24474789915966386,0.24474789915966386,0.24684873949579833,0.24789915966386555,0.25210084033613445,0.25210084033613445,0.2542016806722689,0.2542016806722689,0.25630252100840334,0.25630252100840334,0.25840336134453784,0.25840336134453784,0.2615546218487395,0.2615546218487395,0.26365546218487396,0.26365546218487396,0.2647058823529412,0.2647058823529412,0.2668067226890756,0.2668067226890756,0.26785714285714285,0.26785714285714285,0.2699579831932773,0.2699579831932773,0.2710084033613445,0.27310924369747897,0.27415966386554624,0.27415966386554624,0.27521008403361347,0.27521008403361347,0.2762605042016807,0.2762605042016807,0.2773109243697479,0.2773109243697479,0.27941176470588236,0.27941176470588236,0.2804621848739496,0.2804621848739496,0.2815126050420168,0.2815126050420168,0.28256302521008403,0.28256302521008403,0.2846638655462185,0.2846638655462185,0.2857142857142857,0.2857142857142857,0.28886554621848737,0.28886554621848737,0.29096638655462187,0.29096638655462187,0.29411764705882354,0.29411764705882354,0.29516806722689076,0.29516806722689076,0.2972689075630252,0.2972689075630252,0.3004201680672269,0.3004201680672269,0.3014705882352941,0.3014705882352941,0.3025210084033613,0.3025210084033613,0.30462184873949577,0.30462184873949577,0.30567226890756305,0.30567226890756305,0.3067226890756303,0.3067226890756303,0.3077731092436975,0.3077731092436975,0.3119747899159664,0.3119747899159664,0.3130252100840336,0.3130252100840336,0.31407563025210083,0.31407563025210083,0.31512605042016806,0.31512605042016806,0.3161764705882353,0.3161764705882353,0.3182773109243697,0.3182773109243697,0.31932773109243695,0.31932773109243695,0.3235294117647059,0.3235294117647059,0.3245798319327731,0.3245798319327731,0.32563025210084034,0.32563025210084034,0.32668067226890757,0.32668067226890757,0.3277310924369748,0.3277310924369748,0.328781512605042,0.328781512605042,0.32983193277310924,0.32983193277310924,0.3329831932773109,0.3329831932773109,0.33508403361344535,0.33508403361344535,0.33718487394957986,0.33718487394957986,0.3382352941176471,0.3382352941176471,0.34138655462184875,0.34138655462184875,0.34243697478991597,0.34243697478991597,0.3434873949579832,0.3434873949579832,0.3445378151260504,0.3445378151260504,0.3476890756302521,0.3476890756302521,0.3487394957983193,0.3487394957983193,0.34978991596638653,0.34978991596638653,0.35294117647058826,0.35294117647058826,0.3539915966386555,0.3539915966386555,0.3581932773109244,0.3581932773109244,0.3634453781512605,0.3634453781512605,0.3644957983193277,0.3644957983193277,0.36869747899159666,0.36869747899159666,0.3707983193277311,0.37289915966386555,0.37289915966386555,0.3739495798319328,0.3739495798319328,0.375,0.375,0.3760504201680672,0.3760504201680672,0.37710084033613445,0.37710084033613445,0.37815126050420167,0.37815126050420167,0.3802521008403361,0.3802521008403361,0.38235294117647056,0.38235294117647056,0.38445378151260506,0.38445378151260506,0.3855042016806723,0.3855042016806723,0.3865546218487395,0.3865546218487395,0.38760504201680673,0.38760504201680673,0.38865546218487396,0.38865546218487396,0.3939075630252101,0.3939075630252101,0.3949579831932773,0.3949579831932773,0.39705882352941174,0.39705882352941174,0.39915966386554624,0.39915966386554624,0.40021008403361347,0.40021008403361347,0.4012605042016807,0.4012605042016807,0.40336134453781514,0.40336134453781514,0.40441176470588236,0.40441176470588236,0.4054621848739496,0.4054621848739496,0.4054621848739496,0.4065126050420168,0.4065126050420168,0.40861344537815125,0.40861344537815125,0.4096638655462185,0.4096638655462185,0.4107142857142857,0.4107142857142857,0.41281512605042014,0.41281512605042014,0.4180672268907563,0.4180672268907563,0.42016806722689076,0.42016806722689076,0.421218487394958,0.42331932773109243,0.4264705882352941,0.4264705882352941,0.42857142857142855,0.42857142857142855,0.4317226890756303,0.4317226890756303,0.4338235294117647,0.4338235294117647,0.43592436974789917,0.43592436974789917,0.4369747899159664,0.4369747899159664,0.4380252100840336,0.4380252100840336,0.4411764705882353,0.4411764705882353,0.44432773109243695,0.44432773109243695,0.44642857142857145,0.44642857142857145,0.4474789915966387,0.4474789915966387,0.4485294117647059,0.4485294117647059,0.4495798319327731,0.4495798319327731,0.453781512605042,0.453781512605042,0.45588235294117646,0.45588235294117646,0.4569327731092437,0.4569327731092437,0.4579831932773109,0.4579831932773109,0.45903361344537813,0.45903361344537813,0.46113445378151263,0.46113445378151263,0.4632352941176471,0.4632352941176471,0.4642857142857143,0.4642857142857143,0.4653361344537815,0.4653361344537815,0.46638655462184875,0.46638655462184875,0.46743697478991597,0.46743697478991597,0.4695378151260504,0.4695378151260504,0.47058823529411764,0.47058823529411764,0.47163865546218486,0.47163865546218486,0.4737394957983193,0.4737394957983193,0.47478991596638653,0.47478991596638653,0.47584033613445376,0.47584033613445376,0.47689075630252103,0.47689075630252103,0.4800420168067227,0.4800420168067227,0.48214285714285715,0.48214285714285715,0.4842436974789916,0.4842436974789916,0.48634453781512604,0.48634453781512604,0.48739495798319327,0.48739495798319327,0.49159663865546216,0.49159663865546216,0.49264705882352944,0.49264705882352944,0.4957983193277311,0.4957983193277311,0.49789915966386555,0.49789915966386555,0.4989495798319328,0.4989495798319328,0.5010504201680672,0.5010504201680672,0.5031512605042017,0.5031512605042017,0.5042016806722689,0.5042016806722689,0.5052521008403361,0.5052521008403361,0.5063025210084033,0.5063025210084033,0.5073529411764706,0.5073529411764706,0.5084033613445378,0.5084033613445378,0.509453781512605,0.509453781512605,0.5105042016806722,0.5105042016806722,0.5136554621848739,0.5136554621848739,0.5147058823529411,0.5147058823529411,0.5168067226890757,0.5168067226890757,0.5178571428571429,0.5178571428571429,0.5220588235294118,0.5220588235294118,0.523109243697479,0.523109243697479,0.5241596638655462,0.5241596638655462,0.5252100840336135,0.5252100840336135,0.5262605042016807,0.5262605042016807,0.5273109243697479,0.5273109243697479,0.5346638655462185,0.5346638655462185,0.5367647058823529,0.5367647058823529,0.542016806722689,0.542016806722689,0.5430672268907563,0.5430672268907563,0.5441176470588235,0.5441176470588235,0.5451680672268907,0.5451680672268907,0.5472689075630253,0.5472689075630253,0.5483193277310925,0.5483193277310925,0.5493697478991597,0.5493697478991597,0.5504201680672269,0.5504201680672269,0.5525210084033614,0.5525210084033614,0.5546218487394958,0.5546218487394958,0.555672268907563,0.555672268907563,0.5567226890756303,0.5567226890756303,0.5577731092436975,0.5577731092436975,0.5630252100840336,0.5630252100840336,0.5640756302521008,0.5640756302521008,0.5682773109243697,0.5682773109243697,0.569327731092437,0.569327731092437,0.5714285714285714,0.5714285714285714,0.5724789915966386,0.5724789915966386,0.5745798319327731,0.5745798319327731,0.5756302521008403,0.5756302521008403,0.5777310924369747,0.5777310924369747,0.5787815126050421,0.5787815126050421,0.582983193277311,0.582983193277311,0.5871848739495799,0.5871848739495799,0.5892857142857143,0.5892857142857143,0.592436974789916,0.592436974789916,0.5934873949579832,0.5934873949579832,0.5945378151260504,0.5945378151260504,0.5955882352941176,0.5955882352941176,0.5966386554621849,0.5966386554621849,0.5976890756302521,0.5976890756302521,0.5997899159663865,0.5997899159663865,0.601890756302521,0.601890756302521,0.6060924369747899,0.6060924369747899,0.6071428571428571,0.6071428571428571,0.6081932773109243,0.6081932773109243,0.6092436974789915,0.6092436974789915,0.6102941176470589,0.6102941176470589,0.6123949579831933,0.6123949579831933,0.6134453781512605,0.6134453781512605,0.6144957983193278,0.6144957983193278,0.615546218487395,0.615546218487395,0.6165966386554622,0.6165966386554622,0.6186974789915967,0.6186974789915967,0.6197478991596639,0.6197478991596639,0.6207983193277311,0.6207983193277311,0.625,0.625,0.6260504201680672,0.6260504201680672,0.6281512605042017,0.6281512605042017,0.6302521008403361,0.6302521008403361,0.6323529411764706,0.6323529411764706,0.6334033613445378,0.6334033613445378,0.634453781512605,0.634453781512605,0.6376050420168067,0.6376050420168067,0.6386554621848739,0.6386554621848739,0.6397058823529411,0.6397058823529411,0.6418067226890757,0.6418067226890757,0.6439075630252101,0.6439075630252101,0.6460084033613446,0.6460084033613446,0.6470588235294118,0.6470588235294118,0.648109243697479,0.648109243697479,0.6491596638655462,0.6491596638655462,0.6502100840336135,0.6502100840336135,0.6544117647058824,0.6544117647058824,0.6565126050420168,0.6565126050420168,0.657563025210084,0.657563025210084,0.6586134453781513,0.6586134453781513,0.6596638655462185,0.6596638655462185,0.6607142857142857,0.6607142857142857,0.6617647058823529,0.6617647058823529,0.6628151260504201,0.6628151260504201,0.6638655462184874,0.6638655462184874,0.6649159663865546,0.6649159663865546,0.667016806722689,0.667016806722689,0.6680672268907563,0.6680672268907563,0.6691176470588235,0.6691176470588235,0.6701680672268907,0.6701680672268907,0.6722689075630253,0.6722689075630253,0.6754201680672269,0.6754201680672269,0.6764705882352942,0.6764705882352942,0.6775210084033614,0.6775210084033614,0.6785714285714286,0.6785714285714286,0.6796218487394958,0.6796218487394958,0.6817226890756303,0.6817226890756303,0.6827731092436975,0.6827731092436975,0.6838235294117647,0.6838235294117647,0.6848739495798319,0.6848739495798319,0.6859243697478992,0.6859243697478992,0.6869747899159664,0.6869747899159664,0.6880252100840336,0.6880252100840336,0.6890756302521008,0.6890756302521008,0.6911764705882353,0.6911764705882353,0.6922268907563025,0.6922268907563025,0.6932773109243697,0.6932773109243697,0.694327731092437,0.694327731092437,0.6953781512605042,0.6953781512605042,0.6964285714285714,0.6964285714285714,0.6985294117647058,0.6985294117647058,0.6995798319327731,0.6995798319327731,0.7006302521008403,0.7006302521008403,0.7016806722689075,0.7016806722689075,0.7027310924369747,0.7027310924369747,0.7058823529411765,0.7058823529411765,0.7069327731092437,0.7069327731092437,0.707983193277311,0.7090336134453782,0.7090336134453782,0.7100840336134454,0.7100840336134454,0.7111344537815126,0.7111344537815126,0.7121848739495799,0.7121848739495799,0.7132352941176471,0.7132352941176471,0.7132352941176471,0.7132352941176471,0.7142857142857143,0.7142857142857143,0.7153361344537815,0.7153361344537815,0.7163865546218487,0.7163865546218487,0.7184873949579832,0.7184873949579832,0.7195378151260504,0.7195378151260504,0.7205882352941176,0.7205882352941176,0.7216386554621849,0.7216386554621849,0.7226890756302521,0.7226890756302521,0.7237394957983193,0.7237394957983193,0.7247899159663865,0.7247899159663865,0.7258403361344538,0.7258403361344538,0.726890756302521,0.726890756302521,0.7279411764705882,0.7279411764705882,0.7289915966386554,0.7289915966386554,0.7300420168067226,0.7300420168067226,0.7310924369747899,0.7310924369747899,0.7321428571428571,0.7321428571428571,0.7342436974789915,0.7342436974789915,0.7352941176470589,0.7352941176470589,0.7363445378151261,0.7363445378151261,0.7373949579831933,0.7373949579831933,0.7384453781512605,0.7384453781512605,0.7394957983193278,0.7394957983193278,0.740546218487395,0.740546218487395,0.7415966386554622,0.7415966386554622,0.7426470588235294,0.7426470588235294,0.7436974789915967,0.7436974789915967,0.7457983193277311,0.7457983193277311,0.7468487394957983,0.7468487394957983,0.7478991596638656,0.7478991596638656,0.7489495798319328,0.7489495798319328,0.75,0.75,0.7510504201680672,0.7510504201680672,0.7542016806722689,0.7542016806722689,0.7552521008403361,0.7552521008403361,0.7573529411764706,0.7573529411764706,0.759453781512605,0.759453781512605,0.7605042016806722,0.7605042016806722,0.7615546218487395,0.7615546218487395,0.7636554621848739,0.7636554621848739,0.7647058823529411,0.7647058823529411,0.7657563025210085,0.7657563025210085,0.7689075630252101,0.7689075630252101,0.7710084033613446,0.7710084033613446,0.7720588235294118,0.7720588235294118,0.773109243697479,0.773109243697479,0.7741596638655462,0.7741596638655462,0.7752100840336135,0.7752100840336135,0.7762605042016807,0.7762605042016807,0.7762605042016807,0.7773109243697479,0.7773109243697479,0.7783613445378151,0.7783613445378151,0.7794117647058824,0.7794117647058824,0.7804621848739496,0.7804621848739496,0.7815126050420168,0.7815126050420168,0.782563025210084,0.782563025210084,0.7846638655462185,0.7846638655462185,0.7857142857142857,0.7857142857142857,0.7867647058823529,0.7867647058823529,0.7878151260504201,0.7878151260504201,0.7888655462184874,0.7888655462184874,0.7899159663865546,0.7899159663865546,0.7909663865546218,0.7909663865546218,0.792016806722689,0.792016806722689,0.7930672268907563,0.7930672268907563,0.7941176470588235,0.7941176470588235,0.7951680672268907,0.7951680672268907,0.7962184873949579,0.7962184873949579,0.7972689075630253,0.7972689075630253,0.7983193277310925,0.7983193277310925,0.7993697478991597,0.7993697478991597,0.8004201680672269,0.8004201680672269,0.8014705882352942,0.8014705882352942,0.8025210084033614,0.8025210084033614,0.8046218487394958,0.8046218487394958,0.805672268907563,0.805672268907563,0.8067226890756303,0.8067226890756303,0.8088235294117647,0.8088235294117647,0.8098739495798319,0.8098739495798319,0.8109243697478992,0.8109243697478992,0.8119747899159664,0.8119747899159664,0.8119747899159664,0.8119747899159664,0.8140756302521008,0.8140756302521008,0.8151260504201681,0.8151260504201681,0.8161764705882353,0.8161764705882353,0.8172268907563025,0.8172268907563025,0.8182773109243697,0.8182773109243697,0.819327731092437,0.819327731092437,0.8203781512605042,0.8203781512605042,0.8214285714285714,0.8214285714285714,0.8224789915966386,0.8224789915966386,0.8235294117647058,0.8235294117647058,0.8245798319327731,0.8245798319327731,0.8256302521008403,0.8256302521008403,0.8266806722689075,0.8266806722689075,0.8277310924369747,0.8277310924369747,0.8287815126050421,0.8287815126050421,0.8287815126050421,0.8287815126050421,0.8298319327731093,0.8298319327731093,0.8308823529411765,0.8308823529411765,0.8319327731092437,0.8319327731092437,0.832983193277311,0.8340336134453782,0.8340336134453782,0.8350840336134454,0.8350840336134454,0.8361344537815126,0.8361344537815126,0.8382352941176471,0.8382352941176471,0.8392857142857143,0.8392857142857143,0.8413865546218487,0.8413865546218487,0.842436974789916,0.842436974789916,0.8445378151260504,0.8445378151260504,0.8455882352941176,0.8455882352941176,0.8466386554621849,0.8466386554621849,0.8476890756302521,0.8476890756302521,0.8487394957983193,0.8487394957983193,0.8508403361344538,0.851890756302521,0.851890756302521,0.8529411764705882,0.8529411764705882,0.8539915966386554,0.8539915966386554,0.8550420168067226,0.8550420168067226,0.8571428571428571,0.8571428571428571,0.8581932773109243,0.8581932773109243,0.8602941176470589,0.8602941176470589,0.8613445378151261,0.8613445378151261,0.8623949579831933,0.8623949579831933,0.8634453781512605,0.8634453781512605,0.8644957983193278,0.8644957983193278,0.865546218487395,0.865546218487395,0.8665966386554622,0.8665966386554622,0.8676470588235294,0.8676470588235294,0.8686974789915967,0.8686974789915967,0.8697478991596639,0.8697478991596639,0.8707983193277311,0.8707983193277311,0.8718487394957983,0.8718487394957983,0.8728991596638656,0.8728991596638656,0.875,0.875,0.8760504201680672,0.8760504201680672,0.8771008403361344,0.8771008403361344,0.8781512605042017,0.8781512605042017,0.8792016806722689,0.8792016806722689,0.8802521008403361,0.8802521008403361,0.8823529411764706,0.8823529411764706,0.8834033613445378,0.8834033613445378,0.8855042016806722,0.8855042016806722,0.8865546218487395,0.8865546218487395,0.8876050420168067,0.8876050420168067,0.8886554621848739,0.8886554621848739,0.8897058823529411,0.8897058823529411,0.8907563025210085,0.8907563025210085,0.8918067226890757,0.8918067226890757,0.8939075630252101,0.8939075630252101,0.8949579831932774,0.8949579831932774,0.8960084033613446,0.8960084033613446,0.8960084033613446,0.8960084033613446,0.8970588235294118,0.8970588235294118,0.8991596638655462,0.8991596638655462,0.9002100840336135,0.9002100840336135,0.9012605042016807,0.9012605042016807,0.9023109243697479,0.9023109243697479,0.9044117647058824,0.9044117647058824,0.9054621848739496,0.9054621848739496,0.9065126050420168,0.9065126050420168,0.907563025210084,0.907563025210084,0.9086134453781513,0.9086134453781513,0.9086134453781513,0.9086134453781513,0.9086134453781513,0.9086134453781513,0.9096638655462185,0.9096638655462185,0.9117647058823529,0.9117647058823529,0.9138655462184874,0.9138655462184874,0.9149159663865546,0.9149159663865546,0.9159663865546218,0.9159663865546218,0.917016806722689,0.917016806722689,0.9180672268907563,0.9180672268907563,0.9191176470588235,0.9191176470588235,0.9191176470588235,0.9191176470588235,0.9191176470588235,0.9191176470588235,0.9201680672268907,0.9201680672268907,0.9212184873949579,0.9212184873949579,0.9222689075630253,0.9222689075630253,0.9233193277310925,0.9233193277310925,0.9243697478991597,0.9243697478991597,0.9254201680672269,0.9254201680672269,0.9264705882352942,0.9264705882352942,0.9275210084033614,0.9275210084033614,0.9285714285714286,0.9285714285714286,0.9296218487394958,0.9296218487394958,0.930672268907563,0.930672268907563,0.9317226890756303,0.9317226890756303,0.9327731092436975,0.9327731092436975,0.9338235294117647,0.9338235294117647,0.9348739495798319,0.9348739495798319,0.9359243697478992,0.9359243697478992,0.9369747899159664,0.9369747899159664,0.9380252100840336,0.9380252100840336,0.9390756302521008,0.9390756302521008,0.9401260504201681,0.9401260504201681,0.9411764705882353,0.9411764705882353,0.9422268907563025,0.9422268907563025,0.9432773109243697,0.9432773109243697,0.944327731092437,0.944327731092437,0.9453781512605042,0.9453781512605042,0.9464285714285714,0.9464285714285714,0.9474789915966386,0.9474789915966386,0.9485294117647058,0.9485294117647058,0.9506302521008403,0.9506302521008403,0.9537815126050421,0.9537815126050421,0.9548319327731093,0.9548319327731093,0.9558823529411765,0.9558823529411765,0.9569327731092437,0.9569327731092437,0.957983193277311,0.957983193277311,0.9590336134453782,0.9590336134453782,0.9600840336134454,0.9600840336134454,0.9611344537815126,0.9611344537815126,0.9621848739495799,0.9621848739495799,0.9632352941176471,0.9632352941176471,0.9642857142857143,0.9642857142857143,0.9653361344537815,0.9653361344537815,0.9663865546218487,0.9663865546218487,0.967436974789916,0.967436974789916,0.9695378151260504,0.9695378151260504,0.9705882352941176,0.9705882352941176,0.9716386554621849,0.9716386554621849,0.9737394957983193,0.9737394957983193,0.9747899159663865,0.9747899159663865,0.9758403361344538,0.9758403361344538,0.976890756302521,0.976890756302521,0.9779411764705882,0.9779411764705882,0.9789915966386554,0.9789915966386554,0.9800420168067226,0.9800420168067226,0.9810924369747899,0.9810924369747899,0.9821428571428571,0.9821428571428571,0.9831932773109243,0.9831932773109243,0.9842436974789915,0.9842436974789915,0.9852941176470589,0.9852941176470589,0.9863445378151261,0.9863445378151261,0.9873949579831933,0.9873949579831933,0.9873949579831933,0.9873949579831933,0.9884453781512605,0.9884453781512605,0.9894957983193278,0.9894957983193278,0.990546218487395,0.990546218487395,0.9926470588235294,0.9926470588235294,0.9936974789915967,0.9936974789915967,0.9947478991596639,0.9947478991596639,0.9957983193277311,0.9957983193277311,0.9968487394957983,0.9968487394957983,0.9978991596638656,0.9978991596638656,0.9989495798319328,0.9989495798319328,1.0,1.0],\"type\":\"scatter\"},{\"line\":{\"dash\":\"dash\"},\"mode\":\"lines\",\"name\":\"Random (Area = 0.5)\",\"x\":[0,1],\"y\":[0,1],\"type\":\"scatter\"}],                        {\"autosize\":false,\"height\":800,\"showlegend\":true,\"title\":{\"text\":\"Receiver Operating Characteristic\"},\"width\":800,\"xaxis\":{\"title\":{\"text\":\"False Positive Rate\"}},\"yaxis\":{\"title\":{\"text\":\"True Positive Rate\"}},\"template\":{\"data\":{\"histogram2dcontour\":[{\"type\":\"histogram2dcontour\",\"colorbar\":{\"outlinewidth\":0,\"ticks\":\"\"},\"colorscale\":[[0.0,\"#0d0887\"],[0.1111111111111111,\"#46039f\"],[0.2222222222222222,\"#7201a8\"],[0.3333333333333333,\"#9c179e\"],[0.4444444444444444,\"#bd3786\"],[0.5555555555555556,\"#d8576b\"],[0.6666666666666666,\"#ed7953\"],[0.7777777777777778,\"#fb9f3a\"],[0.8888888888888888,\"#fdca26\"],[1.0,\"#f0f921\"]]}],\"choropleth\":[{\"type\":\"choropleth\",\"colorbar\":{\"outlinewidth\":0,\"ticks\":\"\"}}],\"histogram2d\":[{\"type\":\"histogram2d\",\"colorbar\":{\"outlinewidth\":0,\"ticks\":\"\"},\"colorscale\":[[0.0,\"#0d0887\"],[0.1111111111111111,\"#46039f\"],[0.2222222222222222,\"#7201a8\"],[0.3333333333333333,\"#9c179e\"],[0.4444444444444444,\"#bd3786\"],[0.5555555555555556,\"#d8576b\"],[0.6666666666666666,\"#ed7953\"],[0.7777777777777778,\"#fb9f3a\"],[0.8888888888888888,\"#fdca26\"],[1.0,\"#f0f921\"]]}],\"heatmap\":[{\"type\":\"heatmap\",\"colorbar\":{\"outlinewidth\":0,\"ticks\":\"\"},\"colorscale\":[[0.0,\"#0d0887\"],[0.1111111111111111,\"#46039f\"],[0.2222222222222222,\"#7201a8\"],[0.3333333333333333,\"#9c179e\"],[0.4444444444444444,\"#bd3786\"],[0.5555555555555556,\"#d8576b\"],[0.6666666666666666,\"#ed7953\"],[0.7777777777777778,\"#fb9f3a\"],[0.8888888888888888,\"#fdca26\"],[1.0,\"#f0f921\"]]}],\"heatmapgl\":[{\"type\":\"heatmapgl\",\"colorbar\":{\"outlinewidth\":0,\"ticks\":\"\"},\"colorscale\":[[0.0,\"#0d0887\"],[0.1111111111111111,\"#46039f\"],[0.2222222222222222,\"#7201a8\"],[0.3333333333333333,\"#9c179e\"],[0.4444444444444444,\"#bd3786\"],[0.5555555555555556,\"#d8576b\"],[0.6666666666666666,\"#ed7953\"],[0.7777777777777778,\"#fb9f3a\"],[0.8888888888888888,\"#fdca26\"],[1.0,\"#f0f921\"]]}],\"contourcarpet\":[{\"type\":\"contourcarpet\",\"colorbar\":{\"outlinewidth\":0,\"ticks\":\"\"}}],\"contour\":[{\"type\":\"contour\",\"colorbar\":{\"outlinewidth\":0,\"ticks\":\"\"},\"colorscale\":[[0.0,\"#0d0887\"],[0.1111111111111111,\"#46039f\"],[0.2222222222222222,\"#7201a8\"],[0.3333333333333333,\"#9c179e\"],[0.4444444444444444,\"#bd3786\"],[0.5555555555555556,\"#d8576b\"],[0.6666666666666666,\"#ed7953\"],[0.7777777777777778,\"#fb9f3a\"],[0.8888888888888888,\"#fdca26\"],[1.0,\"#f0f921\"]]}],\"surface\":[{\"type\":\"surface\",\"colorbar\":{\"outlinewidth\":0,\"ticks\":\"\"},\"colorscale\":[[0.0,\"#0d0887\"],[0.1111111111111111,\"#46039f\"],[0.2222222222222222,\"#7201a8\"],[0.3333333333333333,\"#9c179e\"],[0.4444444444444444,\"#bd3786\"],[0.5555555555555556,\"#d8576b\"],[0.6666666666666666,\"#ed7953\"],[0.7777777777777778,\"#fb9f3a\"],[0.8888888888888888,\"#fdca26\"],[1.0,\"#f0f921\"]]}],\"mesh3d\":[{\"type\":\"mesh3d\",\"colorbar\":{\"outlinewidth\":0,\"ticks\":\"\"}}],\"scatter\":[{\"fillpattern\":{\"fillmode\":\"overlay\",\"size\":10,\"solidity\":0.2},\"type\":\"scatter\"}],\"parcoords\":[{\"type\":\"parcoords\",\"line\":{\"colorbar\":{\"outlinewidth\":0,\"ticks\":\"\"}}}],\"scatterpolargl\":[{\"type\":\"scatterpolargl\",\"marker\":{\"colorbar\":{\"outlinewidth\":0,\"ticks\":\"\"}}}],\"bar\":[{\"error_x\":{\"color\":\"#2a3f5f\"},\"error_y\":{\"color\":\"#2a3f5f\"},\"marker\":{\"line\":{\"color\":\"#E5ECF6\",\"width\":0.5},\"pattern\":{\"fillmode\":\"overlay\",\"size\":10,\"solidity\":0.2}},\"type\":\"bar\"}],\"scattergeo\":[{\"type\":\"scattergeo\",\"marker\":{\"colorbar\":{\"outlinewidth\":0,\"ticks\":\"\"}}}],\"scatterpolar\":[{\"type\":\"scatterpolar\",\"marker\":{\"colorbar\":{\"outlinewidth\":0,\"ticks\":\"\"}}}],\"histogram\":[{\"marker\":{\"pattern\":{\"fillmode\":\"overlay\",\"size\":10,\"solidity\":0.2}},\"type\":\"histogram\"}],\"scattergl\":[{\"type\":\"scattergl\",\"marker\":{\"colorbar\":{\"outlinewidth\":0,\"ticks\":\"\"}}}],\"scatter3d\":[{\"type\":\"scatter3d\",\"line\":{\"colorbar\":{\"outlinewidth\":0,\"ticks\":\"\"}},\"marker\":{\"colorbar\":{\"outlinewidth\":0,\"ticks\":\"\"}}}],\"scattermapbox\":[{\"type\":\"scattermapbox\",\"marker\":{\"colorbar\":{\"outlinewidth\":0,\"ticks\":\"\"}}}],\"scatterternary\":[{\"type\":\"scatterternary\",\"marker\":{\"colorbar\":{\"outlinewidth\":0,\"ticks\":\"\"}}}],\"scattercarpet\":[{\"type\":\"scattercarpet\",\"marker\":{\"colorbar\":{\"outlinewidth\":0,\"ticks\":\"\"}}}],\"carpet\":[{\"aaxis\":{\"endlinecolor\":\"#2a3f5f\",\"gridcolor\":\"white\",\"linecolor\":\"white\",\"minorgridcolor\":\"white\",\"startlinecolor\":\"#2a3f5f\"},\"baxis\":{\"endlinecolor\":\"#2a3f5f\",\"gridcolor\":\"white\",\"linecolor\":\"white\",\"minorgridcolor\":\"white\",\"startlinecolor\":\"#2a3f5f\"},\"type\":\"carpet\"}],\"table\":[{\"cells\":{\"fill\":{\"color\":\"#EBF0F8\"},\"line\":{\"color\":\"white\"}},\"header\":{\"fill\":{\"color\":\"#C8D4E3\"},\"line\":{\"color\":\"white\"}},\"type\":\"table\"}],\"barpolar\":[{\"marker\":{\"line\":{\"color\":\"#E5ECF6\",\"width\":0.5},\"pattern\":{\"fillmode\":\"overlay\",\"size\":10,\"solidity\":0.2}},\"type\":\"barpolar\"}],\"pie\":[{\"automargin\":true,\"type\":\"pie\"}]},\"layout\":{\"autotypenumbers\":\"strict\",\"colorway\":[\"#636efa\",\"#EF553B\",\"#00cc96\",\"#ab63fa\",\"#FFA15A\",\"#19d3f3\",\"#FF6692\",\"#B6E880\",\"#FF97FF\",\"#FECB52\"],\"font\":{\"color\":\"#2a3f5f\"},\"hovermode\":\"closest\",\"hoverlabel\":{\"align\":\"left\"},\"paper_bgcolor\":\"white\",\"plot_bgcolor\":\"#E5ECF6\",\"polar\":{\"bgcolor\":\"#E5ECF6\",\"angularaxis\":{\"gridcolor\":\"white\",\"linecolor\":\"white\",\"ticks\":\"\"},\"radialaxis\":{\"gridcolor\":\"white\",\"linecolor\":\"white\",\"ticks\":\"\"}},\"ternary\":{\"bgcolor\":\"#E5ECF6\",\"aaxis\":{\"gridcolor\":\"white\",\"linecolor\":\"white\",\"ticks\":\"\"},\"baxis\":{\"gridcolor\":\"white\",\"linecolor\":\"white\",\"ticks\":\"\"},\"caxis\":{\"gridcolor\":\"white\",\"linecolor\":\"white\",\"ticks\":\"\"}},\"coloraxis\":{\"colorbar\":{\"outlinewidth\":0,\"ticks\":\"\"}},\"colorscale\":{\"sequential\":[[0.0,\"#0d0887\"],[0.1111111111111111,\"#46039f\"],[0.2222222222222222,\"#7201a8\"],[0.3333333333333333,\"#9c179e\"],[0.4444444444444444,\"#bd3786\"],[0.5555555555555556,\"#d8576b\"],[0.6666666666666666,\"#ed7953\"],[0.7777777777777778,\"#fb9f3a\"],[0.8888888888888888,\"#fdca26\"],[1.0,\"#f0f921\"]],\"sequentialminus\":[[0.0,\"#0d0887\"],[0.1111111111111111,\"#46039f\"],[0.2222222222222222,\"#7201a8\"],[0.3333333333333333,\"#9c179e\"],[0.4444444444444444,\"#bd3786\"],[0.5555555555555556,\"#d8576b\"],[0.6666666666666666,\"#ed7953\"],[0.7777777777777778,\"#fb9f3a\"],[0.8888888888888888,\"#fdca26\"],[1.0,\"#f0f921\"]],\"diverging\":[[0,\"#8e0152\"],[0.1,\"#c51b7d\"],[0.2,\"#de77ae\"],[0.3,\"#f1b6da\"],[0.4,\"#fde0ef\"],[0.5,\"#f7f7f7\"],[0.6,\"#e6f5d0\"],[0.7,\"#b8e186\"],[0.8,\"#7fbc41\"],[0.9,\"#4d9221\"],[1,\"#276419\"]]},\"xaxis\":{\"gridcolor\":\"white\",\"linecolor\":\"white\",\"ticks\":\"\",\"title\":{\"standoff\":15},\"zerolinecolor\":\"white\",\"automargin\":true,\"zerolinewidth\":2},\"yaxis\":{\"gridcolor\":\"white\",\"linecolor\":\"white\",\"ticks\":\"\",\"title\":{\"standoff\":15},\"zerolinecolor\":\"white\",\"automargin\":true,\"zerolinewidth\":2},\"scene\":{\"xaxis\":{\"backgroundcolor\":\"#E5ECF6\",\"gridcolor\":\"white\",\"linecolor\":\"white\",\"showbackground\":true,\"ticks\":\"\",\"zerolinecolor\":\"white\",\"gridwidth\":2},\"yaxis\":{\"backgroundcolor\":\"#E5ECF6\",\"gridcolor\":\"white\",\"linecolor\":\"white\",\"showbackground\":true,\"ticks\":\"\",\"zerolinecolor\":\"white\",\"gridwidth\":2},\"zaxis\":{\"backgroundcolor\":\"#E5ECF6\",\"gridcolor\":\"white\",\"linecolor\":\"white\",\"showbackground\":true,\"ticks\":\"\",\"zerolinecolor\":\"white\",\"gridwidth\":2}},\"shapedefaults\":{\"line\":{\"color\":\"#2a3f5f\"}},\"annotationdefaults\":{\"arrowcolor\":\"#2a3f5f\",\"arrowhead\":0,\"arrowwidth\":1},\"geo\":{\"bgcolor\":\"white\",\"landcolor\":\"#E5ECF6\",\"subunitcolor\":\"white\",\"showland\":true,\"showlakes\":true,\"lakecolor\":\"white\"},\"title\":{\"x\":0.05},\"mapbox\":{\"style\":\"light\"}}}},                        {\"responsive\": true}                    ).then(function(){\n",
              "                            \n",
              "var gd = document.getElementById('1c88817d-bd66-40dd-97df-c97554184650');\n",
              "var x = new MutationObserver(function (mutations, observer) {{\n",
              "        var display = window.getComputedStyle(gd).display;\n",
              "        if (!display || display === 'none') {{\n",
              "            console.log([gd, 'removed!']);\n",
              "            Plotly.purge(gd);\n",
              "            observer.disconnect();\n",
              "        }}\n",
              "}});\n",
              "\n",
              "// Listen for the removal of the full notebook cells\n",
              "var notebookContainer = gd.closest('#notebook-container');\n",
              "if (notebookContainer) {{\n",
              "    x.observe(notebookContainer, {childList: true});\n",
              "}}\n",
              "\n",
              "// Listen for the clearing of the current output cell\n",
              "var outputEl = gd.closest('.output');\n",
              "if (outputEl) {{\n",
              "    x.observe(outputEl, {childList: true});\n",
              "}}\n",
              "\n",
              "                        })                };                            </script>        </div>\n",
              "</body>\n",
              "</html>"
            ]
          },
          "metadata": {}
        }
      ]
    },
    {
      "cell_type": "code",
      "source": [
        "import numpy as np\n",
        "\n",
        "optimal_idx = np.argmax(gbc_tpr - gbc_fpr)\n",
        "optimal_threshold = gbc_thresholds[optimal_idx]\n",
        "print(\"Optimal threshold gbc is:\", optimal_threshold)\n",
        "\n",
        "\n",
        "optimal_idx = np.argmax(lr_tpr - lr_fpr)\n",
        "optimal_threshold = lr_thresholds[optimal_idx]\n",
        "print(\"Optimal threshold lr is:\", optimal_threshold)\n"
      ],
      "metadata": {
        "colab": {
          "base_uri": "https://localhost:8080/"
        },
        "id": "ByOSsJ_AhJE2",
        "outputId": "a219e32a-b55c-41b1-9bc7-891e86120864"
      },
      "execution_count": 34,
      "outputs": [
        {
          "output_type": "stream",
          "name": "stdout",
          "text": [
            "Optimal threshold gbc is: 0.2303214285714286\n",
            "Optimal threshold lr is: 0.24580471908143223\n"
          ]
        }
      ]
    },
    {
      "cell_type": "code",
      "source": [
        "import pickle\n",
        "with open('lr.pkl', 'wb') as f:\n",
        "    pickle.dump(lr_clf, f)"
      ],
      "metadata": {
        "id": "U6UVvRJuSO42"
      },
      "execution_count": null,
      "outputs": []
    },
    {
      "cell_type": "code",
      "source": [
        "test_data = pd.DataFrame([{\n",
        "    'city_development_index': 0.83,\n",
        "    'gender': 'Male',\n",
        "    'relevent_experience': 'Has relevent experience',\n",
        "    'enrolled_university': 'Full time course',\n",
        "    'education_level': 'Graduate',\n",
        "    'major_discipline': 'STEM',\n",
        "    'company_type': 'Pvt Ltd',\n",
        "    'last_new_job': 1,\n",
        "    'training_hours': 60,\n",
        "    'exp_level': 'medium_exp',\n",
        "    'size_label': 'micro'\n",
        "}])\n",
        "\n",
        "# answer = preprocessor.transform(test_data)\n",
        "\n",
        "predicted_class = Pipeline2.predict(test_data)[0]\n",
        "print(f\"Predicted Class: {predicted_class}\")\n",
        "\n",
        "probs = Pipeline2.predict_proba(test_data)\n",
        "print(f\"Probabilities: {probs}\")\n",
        "\n",
        "max_prob = max(probs[0])\n",
        "print(f\"Maximum Probability: {max_prob:.4f}\")"
      ],
      "metadata": {
        "colab": {
          "base_uri": "https://localhost:8080/"
        },
        "id": "PL_ApUaKrHHY",
        "outputId": "7dcd38ed-b0c4-48db-fbc2-9c9433f7aebe"
      },
      "execution_count": 35,
      "outputs": [
        {
          "output_type": "stream",
          "name": "stdout",
          "text": [
            "Predicted Class: 0.0\n",
            "Probabilities: [[0.72891596 0.27108404]]\n",
            "Maximum Probability: 0.7289\n"
          ]
        }
      ]
    },
    {
      "cell_type": "code",
      "source": [
        "# Step 1: Predict using the default threshold (0.5 internally)\n",
        "y_pred_default = lr_clf.predict(X_test)\n",
        "\n",
        "# Step 2: Generate confusion matrix\n",
        "from sklearn.metrics import confusion_matrix\n",
        "cm = confusion_matrix(y_test, y_pred_default)\n",
        "\n",
        "print(\"Confusion Matrix:\\n\", cm)\n",
        "\n",
        "# Step 3: Display the confusion matrix\n",
        "from sklearn.metrics import ConfusionMatrixDisplay, accuracy_score\n",
        "\n",
        "accuracy = accuracy_score(y_test, y_pred_default)\n",
        "print(\"Accuracy:\", accuracy)\n",
        "disp = ConfusionMatrixDisplay(confusion_matrix=cm, display_labels=[0, 1])\n",
        "disp.plot()"
      ],
      "metadata": {
        "colab": {
          "base_uri": "https://localhost:8080/",
          "height": 536
        },
        "id": "Wz8xzMYRrLcn",
        "outputId": "40684577-e963-447b-8ec9-3e29bdcad005"
      },
      "execution_count": 36,
      "outputs": [
        {
          "output_type": "stream",
          "name": "stdout",
          "text": [
            "Confusion Matrix:\n",
            " [[2679  201]\n",
            " [ 688  264]]\n",
            "Accuracy: 0.7680062630480167\n"
          ]
        },
        {
          "output_type": "execute_result",
          "data": {
            "text/plain": [
              "<sklearn.metrics._plot.confusion_matrix.ConfusionMatrixDisplay at 0x78d7e7027bc0>"
            ]
          },
          "metadata": {},
          "execution_count": 36
        },
        {
          "output_type": "display_data",
          "data": {
            "text/plain": [
              "<Figure size 640x480 with 2 Axes>"
            ],
            "image/png": "[encoded data removed]"
          },
          "metadata": {}
        }
      ]
    }
  ],
  "metadata": {
    "colab": {
      "provenance": []
    },
    "kernelspec": {
      "display_name": "Python 3",
      "name": "python3"
    },
    "language_info": {
      "name": "python"
    }
  },
  "nbformat": 4,
  "nbformat_minor": 0
}